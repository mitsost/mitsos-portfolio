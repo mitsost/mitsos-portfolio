{
 "cells": [
  {
   "cell_type": "markdown",
   "metadata": {},
   "source": [
    "# DS-NYC-45 | Unit Project 1: Research Design Write-Up"
   ]
  },
  {
   "cell_type": "markdown",
   "metadata": {},
   "source": [
    "In this first unit project you will create a framework to scope out data science projects.  This framework will provide you with a guide to develop a well-articulated problem statement and analysis plan that will be robust and reproducible."
   ]
  },
  {
   "cell_type": "markdown",
   "metadata": {},
   "source": [
    "## Part A.  Evaluate the following problem statement:"
   ]
  },
  {
   "cell_type": "markdown",
   "metadata": {},
   "source": [
    "> \"Determine which free-tier customers will covert to paying customers, using demographic data collected at signup (age, gender, location, and profession) and customer useage data (days since last log in, and `activity score 1 = active user`, `0 = inactive user`) based on Hooli data from January-April 2015.\""
   ]
  },
  {
   "cell_type": "markdown",
   "metadata": {},
   "source": [
    "> ### Question 1.  What is the outcome?"
   ]
  },
  {
   "cell_type": "markdown",
   "metadata": {},
   "source": [
    "#### Answer: <span style=\"color:blue\">Indicator of whether a free-tier sign-up will result to a paying plan</span>"
   ]
  },
  {
   "cell_type": "markdown",
   "metadata": {},
   "source": [
    "> ### Question 2.  What are the predictors/covariates?"
   ]
  },
  {
   "cell_type": "markdown",
   "metadata": {},
   "source": [
    "#### Answer: <span style=\"color:blue\"><br>The predictors/covariates are:<br>Age<br>Gender<br>Location<br>Profession<br><br>Active user (yes/no)<br><blockquote>If yes --> days since last login</blockquote></span>"
   ]
  },
  {
   "cell_type": "markdown",
   "metadata": {},
   "source": [
    "> ### Question 3.  What timeframe is this data relevent for?"
   ]
  },
  {
   "cell_type": "markdown",
   "metadata": {},
   "source": [
    "#### Answer: <span style=\"color:blue\"><br>January - April 2015"
   ]
  },
  {
   "cell_type": "markdown",
   "metadata": {},
   "source": [
    "> ### Question 4.  What is the hypothesis?"
   ]
  },
  {
   "cell_type": "markdown",
   "metadata": {},
   "source": [
    "#### Answer: <span style=\"color:blue\"><br>Based on the variables/predictors listed above we will be able to predict which of the free plan users will convert to a paid subscription."
   ]
  },
  {
   "cell_type": "markdown",
   "metadata": {},
   "source": [
    "## Part B.  Let's start exploring our UCLA dataset and answer some simple questions:"
   ]
  },
  {
   "cell_type": "code",
   "execution_count": 1,
   "metadata": {
    "collapsed": false
   },
   "outputs": [
    {
     "data": {
      "text/html": [
       "<div>\n",
       "<table border=\"1\" class=\"dataframe\">\n",
       "  <thead>\n",
       "    <tr style=\"text-align: right;\">\n",
       "      <th></th>\n",
       "      <th>admit</th>\n",
       "      <th>gre</th>\n",
       "      <th>gpa</th>\n",
       "      <th>prestige</th>\n",
       "    </tr>\n",
       "  </thead>\n",
       "  <tbody>\n",
       "    <tr>\n",
       "      <th>0</th>\n",
       "      <td>0</td>\n",
       "      <td>380.0</td>\n",
       "      <td>3.61</td>\n",
       "      <td>3.0</td>\n",
       "    </tr>\n",
       "    <tr>\n",
       "      <th>1</th>\n",
       "      <td>1</td>\n",
       "      <td>660.0</td>\n",
       "      <td>3.67</td>\n",
       "      <td>3.0</td>\n",
       "    </tr>\n",
       "    <tr>\n",
       "      <th>2</th>\n",
       "      <td>1</td>\n",
       "      <td>800.0</td>\n",
       "      <td>4.00</td>\n",
       "      <td>1.0</td>\n",
       "    </tr>\n",
       "    <tr>\n",
       "      <th>3</th>\n",
       "      <td>1</td>\n",
       "      <td>640.0</td>\n",
       "      <td>3.19</td>\n",
       "      <td>4.0</td>\n",
       "    </tr>\n",
       "    <tr>\n",
       "      <th>4</th>\n",
       "      <td>0</td>\n",
       "      <td>520.0</td>\n",
       "      <td>2.93</td>\n",
       "      <td>4.0</td>\n",
       "    </tr>\n",
       "  </tbody>\n",
       "</table>\n",
       "</div>"
      ],
      "text/plain": [
       "   admit    gre   gpa  prestige\n",
       "0      0  380.0  3.61       3.0\n",
       "1      1  660.0  3.67       3.0\n",
       "2      1  800.0  4.00       1.0\n",
       "3      1  640.0  3.19       4.0\n",
       "4      0  520.0  2.93       4.0"
      ]
     },
     "execution_count": 1,
     "metadata": {},
     "output_type": "execute_result"
    }
   ],
   "source": [
    "import os\n",
    "import pandas as pd\n",
    "\n",
    "df = pd.read_csv(os.path.join('..', '..', 'dataset', 'ucla-admissions.csv'))\n",
    "\n",
    "df.head()"
   ]
  },
  {
   "cell_type": "markdown",
   "metadata": {},
   "source": [
    "> ### Question 5.  Create a data dictionary."
   ]
  },
  {
   "cell_type": "code",
   "execution_count": 2,
   "metadata": {
    "collapsed": false
   },
   "outputs": [
    {
     "data": {
      "text/plain": [
       "{0: {'admit': 0.0, 'gpa': 3.6099999999999999, 'gre': 380.0, 'prestige': 3.0},\n",
       " 1: {'admit': 1.0, 'gpa': 3.6699999999999999, 'gre': 660.0, 'prestige': 3.0},\n",
       " 2: {'admit': 1.0, 'gpa': 4.0, 'gre': 800.0, 'prestige': 1.0},\n",
       " 3: {'admit': 1.0, 'gpa': 3.1899999999999999, 'gre': 640.0, 'prestige': 4.0},\n",
       " 4: {'admit': 0.0, 'gpa': 2.9300000000000002, 'gre': 520.0, 'prestige': 4.0},\n",
       " 5: {'admit': 1.0, 'gpa': 3.0, 'gre': 760.0, 'prestige': 2.0},\n",
       " 6: {'admit': 1.0, 'gpa': 2.98, 'gre': 560.0, 'prestige': 1.0},\n",
       " 7: {'admit': 0.0, 'gpa': 3.0800000000000001, 'gre': 400.0, 'prestige': 2.0},\n",
       " 8: {'admit': 1.0, 'gpa': 3.3900000000000001, 'gre': 540.0, 'prestige': 3.0},\n",
       " 9: {'admit': 0.0, 'gpa': 3.9199999999999999, 'gre': 700.0, 'prestige': 2.0},\n",
       " 10: {'admit': 0.0, 'gpa': 4.0, 'gre': 800.0, 'prestige': 4.0},\n",
       " 11: {'admit': 0.0, 'gpa': 3.2200000000000002, 'gre': 440.0, 'prestige': 1.0},\n",
       " 12: {'admit': 1.0, 'gpa': 4.0, 'gre': 760.0, 'prestige': 1.0},\n",
       " 13: {'admit': 0.0, 'gpa': 3.0800000000000001, 'gre': 700.0, 'prestige': 2.0},\n",
       " 14: {'admit': 1.0, 'gpa': 4.0, 'gre': 700.0, 'prestige': 1.0},\n",
       " 15: {'admit': 0.0, 'gpa': 3.4399999999999999, 'gre': 480.0, 'prestige': 3.0},\n",
       " 16: {'admit': 0.0, 'gpa': 3.8700000000000001, 'gre': 780.0, 'prestige': 4.0},\n",
       " 17: {'admit': 0.0, 'gpa': 2.5600000000000001, 'gre': 360.0, 'prestige': 3.0},\n",
       " 18: {'admit': 0.0, 'gpa': 3.75, 'gre': 800.0, 'prestige': 2.0},\n",
       " 19: {'admit': 1.0, 'gpa': 3.8100000000000001, 'gre': 540.0, 'prestige': 1.0},\n",
       " 20: {'admit': 0.0, 'gpa': 3.1699999999999999, 'gre': 500.0, 'prestige': 3.0},\n",
       " 21: {'admit': 1.0, 'gpa': 3.6299999999999999, 'gre': 660.0, 'prestige': 2.0},\n",
       " 22: {'admit': 0.0, 'gpa': 2.8199999999999998, 'gre': 600.0, 'prestige': 4.0},\n",
       " 23: {'admit': 0.0, 'gpa': 3.1899999999999999, 'gre': 680.0, 'prestige': 4.0},\n",
       " 24: {'admit': 1.0, 'gpa': 3.3500000000000001, 'gre': 760.0, 'prestige': 2.0},\n",
       " 25: {'admit': 1.0, 'gpa': 3.6600000000000001, 'gre': 800.0, 'prestige': 1.0},\n",
       " 26: {'admit': 1.0, 'gpa': 3.6099999999999999, 'gre': 620.0, 'prestige': 1.0},\n",
       " 27: {'admit': 1.0, 'gpa': 3.7400000000000002, 'gre': 520.0, 'prestige': 4.0},\n",
       " 28: {'admit': 1.0, 'gpa': 3.2200000000000002, 'gre': 780.0, 'prestige': 2.0},\n",
       " 29: {'admit': 0.0, 'gpa': 3.29, 'gre': 520.0, 'prestige': 1.0},\n",
       " 30: {'admit': 0.0, 'gpa': 3.7799999999999998, 'gre': 540.0, 'prestige': 4.0},\n",
       " 31: {'admit': 0.0, 'gpa': 3.3500000000000001, 'gre': 760.0, 'prestige': 3.0},\n",
       " 32: {'admit': 0.0, 'gpa': 3.3999999999999999, 'gre': 600.0, 'prestige': 3.0},\n",
       " 33: {'admit': 1.0, 'gpa': 4.0, 'gre': 800.0, 'prestige': 3.0},\n",
       " 34: {'admit': 0.0, 'gpa': 3.1400000000000001, 'gre': 360.0, 'prestige': 1.0},\n",
       " 35: {'admit': 0.0, 'gpa': 3.0499999999999998, 'gre': 400.0, 'prestige': 2.0},\n",
       " 36: {'admit': 0.0, 'gpa': 3.25, 'gre': 580.0, 'prestige': 1.0},\n",
       " 37: {'admit': 0.0, 'gpa': 2.8999999999999999, 'gre': 520.0, 'prestige': 3.0},\n",
       " 38: {'admit': 1.0, 'gpa': 3.1299999999999999, 'gre': 500.0, 'prestige': 2.0},\n",
       " 39: {'admit': 1.0, 'gpa': 2.6800000000000002, 'gre': 520.0, 'prestige': 3.0},\n",
       " 40: {'admit': 0.0, 'gpa': 2.4199999999999999, 'gre': 560.0, 'prestige': 2.0},\n",
       " 41: {'admit': 1.0, 'gpa': 3.3199999999999998, 'gre': 580.0, 'prestige': 2.0},\n",
       " 42: {'admit': 1.0, 'gpa': 3.1499999999999999, 'gre': 600.0, 'prestige': 2.0},\n",
       " 43: {'admit': 0.0, 'gpa': 3.3100000000000001, 'gre': 500.0, 'prestige': 3.0},\n",
       " 44: {'admit': 0.0, 'gpa': 2.9399999999999999, 'gre': 700.0, 'prestige': 2.0},\n",
       " 45: {'admit': 1.0, 'gpa': 3.4500000000000002, 'gre': 460.0, 'prestige': 3.0},\n",
       " 46: {'admit': 1.0, 'gpa': 3.46, 'gre': 580.0, 'prestige': 2.0},\n",
       " 47: {'admit': 0.0, 'gpa': 2.9700000000000002, 'gre': 500.0, 'prestige': 4.0},\n",
       " 48: {'admit': 0.0, 'gpa': 2.48, 'gre': 440.0, 'prestige': 4.0},\n",
       " 49: {'admit': 0.0, 'gpa': 3.3500000000000001, 'gre': 400.0, 'prestige': 3.0},\n",
       " 50: {'admit': 0.0, 'gpa': 3.8599999999999999, 'gre': 640.0, 'prestige': 3.0},\n",
       " 51: {'admit': 0.0, 'gpa': 3.1299999999999999, 'gre': 440.0, 'prestige': 4.0},\n",
       " 52: {'admit': 0.0, 'gpa': 3.3700000000000001, 'gre': 740.0, 'prestige': 4.0},\n",
       " 53: {'admit': 1.0, 'gpa': 3.27, 'gre': 680.0, 'prestige': 2.0},\n",
       " 54: {'admit': 0.0, 'gpa': 3.3399999999999999, 'gre': 660.0, 'prestige': 3.0},\n",
       " 55: {'admit': 1.0, 'gpa': 4.0, 'gre': 740.0, 'prestige': 3.0},\n",
       " 56: {'admit': 0.0, 'gpa': 3.1899999999999999, 'gre': 560.0, 'prestige': 3.0},\n",
       " 57: {'admit': 0.0, 'gpa': 2.9399999999999999, 'gre': 380.0, 'prestige': 3.0},\n",
       " 58: {'admit': 0.0, 'gpa': 3.6499999999999999, 'gre': 400.0, 'prestige': 2.0},\n",
       " 59: {'admit': 0.0, 'gpa': 2.8199999999999998, 'gre': 600.0, 'prestige': 4.0},\n",
       " 60: {'admit': 1.0, 'gpa': 3.1800000000000002, 'gre': 620.0, 'prestige': 2.0},\n",
       " 61: {'admit': 0.0, 'gpa': 3.3199999999999998, 'gre': 560.0, 'prestige': 4.0},\n",
       " 62: {'admit': 0.0, 'gpa': 3.6699999999999999, 'gre': 640.0, 'prestige': 3.0},\n",
       " 63: {'admit': 1.0, 'gpa': 3.8500000000000001, 'gre': 680.0, 'prestige': 3.0},\n",
       " 64: {'admit': 0.0, 'gpa': 4.0, 'gre': 580.0, 'prestige': 3.0},\n",
       " 65: {'admit': 0.0, 'gpa': 3.5899999999999999, 'gre': 600.0, 'prestige': 2.0},\n",
       " 66: {'admit': 0.0, 'gpa': 3.6200000000000001, 'gre': 740.0, 'prestige': 4.0},\n",
       " 67: {'admit': 0.0, 'gpa': 3.2999999999999998, 'gre': 620.0, 'prestige': 1.0},\n",
       " 68: {'admit': 0.0, 'gpa': 3.6899999999999999, 'gre': 580.0, 'prestige': 1.0},\n",
       " 69: {'admit': 0.0, 'gpa': 3.73, 'gre': 800.0, 'prestige': 1.0},\n",
       " 70: {'admit': 0.0, 'gpa': 4.0, 'gre': 640.0, 'prestige': 3.0},\n",
       " 71: {'admit': 0.0, 'gpa': 2.9199999999999999, 'gre': 300.0, 'prestige': 4.0},\n",
       " 72: {'admit': 0.0, 'gpa': 3.3900000000000001, 'gre': 480.0, 'prestige': 4.0},\n",
       " 73: {'admit': 0.0, 'gpa': 4.0, 'gre': 580.0, 'prestige': 2.0},\n",
       " 74: {'admit': 0.0, 'gpa': 3.4500000000000002, 'gre': 720.0, 'prestige': 4.0},\n",
       " 75: {'admit': 0.0, 'gpa': 4.0, 'gre': 720.0, 'prestige': 3.0},\n",
       " 76: {'admit': 0.0, 'gpa': 3.3599999999999999, 'gre': 560.0, 'prestige': 3.0},\n",
       " 77: {'admit': 1.0, 'gpa': 4.0, 'gre': 800.0, 'prestige': 3.0},\n",
       " 78: {'admit': 0.0, 'gpa': 3.1200000000000001, 'gre': 540.0, 'prestige': 1.0},\n",
       " 79: {'admit': 1.0, 'gpa': 4.0, 'gre': 620.0, 'prestige': 1.0},\n",
       " 80: {'admit': 0.0, 'gpa': 2.8999999999999999, 'gre': 700.0, 'prestige': 4.0},\n",
       " 81: {'admit': 0.0, 'gpa': 3.0699999999999998, 'gre': 620.0, 'prestige': 2.0},\n",
       " 82: {'admit': 0.0, 'gpa': 2.71, 'gre': 500.0, 'prestige': 2.0},\n",
       " 83: {'admit': 0.0, 'gpa': 2.9100000000000001, 'gre': 380.0, 'prestige': 4.0},\n",
       " 84: {'admit': 1.0, 'gpa': 3.6000000000000001, 'gre': 500.0, 'prestige': 3.0},\n",
       " 85: {'admit': 0.0, 'gpa': 2.98, 'gre': 520.0, 'prestige': 2.0},\n",
       " 86: {'admit': 0.0, 'gpa': 3.3199999999999998, 'gre': 600.0, 'prestige': 2.0},\n",
       " 87: {'admit': 0.0, 'gpa': 3.48, 'gre': 600.0, 'prestige': 2.0},\n",
       " 88: {'admit': 0.0, 'gpa': 3.2799999999999998, 'gre': 700.0, 'prestige': 1.0},\n",
       " 89: {'admit': 1.0, 'gpa': 4.0, 'gre': 660.0, 'prestige': 2.0},\n",
       " 90: {'admit': 0.0, 'gpa': 3.8300000000000001, 'gre': 700.0, 'prestige': 2.0},\n",
       " 91: {'admit': 1.0, 'gpa': 3.6400000000000001, 'gre': 720.0, 'prestige': 1.0},\n",
       " 92: {'admit': 0.0, 'gpa': 3.8999999999999999, 'gre': 800.0, 'prestige': 2.0},\n",
       " 93: {'admit': 0.0, 'gpa': 2.9300000000000002, 'gre': 580.0, 'prestige': 2.0},\n",
       " 94: {'admit': 1.0, 'gpa': 3.4399999999999999, 'gre': 660.0, 'prestige': 2.0},\n",
       " 95: {'admit': 0.0, 'gpa': 3.3300000000000001, 'gre': 660.0, 'prestige': 2.0},\n",
       " 96: {'admit': 0.0, 'gpa': 3.52, 'gre': 640.0, 'prestige': 4.0},\n",
       " 97: {'admit': 0.0, 'gpa': 3.5699999999999998, 'gre': 480.0, 'prestige': 2.0},\n",
       " 98: {'admit': 0.0, 'gpa': 2.8799999999999999, 'gre': 700.0, 'prestige': 2.0},\n",
       " 99: {'admit': 0.0, 'gpa': 3.3100000000000001, 'gre': 400.0, 'prestige': 3.0},\n",
       " 100: {'admit': 0.0, 'gpa': 3.1499999999999999, 'gre': 340.0, 'prestige': 3.0},\n",
       " 101: {'admit': 0.0, 'gpa': 3.5699999999999998, 'gre': 580.0, 'prestige': 3.0},\n",
       " 102: {'admit': 0.0, 'gpa': 3.3300000000000001, 'gre': 380.0, 'prestige': 4.0},\n",
       " 103: {'admit': 0.0, 'gpa': 3.9399999999999999, 'gre': 540.0, 'prestige': 3.0},\n",
       " 104: {'admit': 1.0, 'gpa': 3.9500000000000002, 'gre': 660.0, 'prestige': 2.0},\n",
       " 105: {'admit': 1.0, 'gpa': 2.9700000000000002, 'gre': 740.0, 'prestige': 2.0},\n",
       " 106: {'admit': 1.0, 'gpa': 3.5600000000000001, 'gre': 700.0, 'prestige': 1.0},\n",
       " 107: {'admit': 0.0, 'gpa': 3.1299999999999999, 'gre': 480.0, 'prestige': 2.0},\n",
       " 108: {'admit': 0.0, 'gpa': 2.9300000000000002, 'gre': 400.0, 'prestige': 3.0},\n",
       " 109: {'admit': 0.0, 'gpa': 3.4500000000000002, 'gre': 480.0, 'prestige': 2.0},\n",
       " 110: {'admit': 0.0, 'gpa': 3.0800000000000001, 'gre': 680.0, 'prestige': 4.0},\n",
       " 111: {'admit': 0.0, 'gpa': 3.4100000000000001, 'gre': 420.0, 'prestige': 4.0},\n",
       " 112: {'admit': 0.0, 'gpa': 3.0, 'gre': 360.0, 'prestige': 3.0},\n",
       " 113: {'admit': 0.0, 'gpa': 3.2200000000000002, 'gre': 600.0, 'prestige': 1.0},\n",
       " 114: {'admit': 0.0, 'gpa': 3.8399999999999999, 'gre': 720.0, 'prestige': 3.0},\n",
       " 115: {'admit': 0.0, 'gpa': 3.9900000000000002, 'gre': 620.0, 'prestige': 3.0},\n",
       " 116: {'admit': 1.0, 'gpa': 3.4500000000000002, 'gre': 440.0, 'prestige': 2.0},\n",
       " 117: {'admit': 0.0, 'gpa': 3.7200000000000002, 'gre': 700.0, 'prestige': 2.0},\n",
       " 118: {'admit': 1.0, 'gpa': 3.7000000000000002, 'gre': 800.0, 'prestige': 1.0},\n",
       " 119: {'admit': 0.0, 'gpa': 2.9199999999999999, 'gre': 340.0, 'prestige': 3.0},\n",
       " 120: {'admit': 1.0, 'gpa': 3.7400000000000002, 'gre': 520.0, 'prestige': 2.0},\n",
       " 121: {'admit': 1.0, 'gpa': 2.6699999999999999, 'gre': 480.0, 'prestige': 2.0},\n",
       " 122: {'admit': 0.0, 'gpa': 2.8500000000000001, 'gre': 520.0, 'prestige': 3.0},\n",
       " 123: {'admit': 0.0, 'gpa': 2.98, 'gre': 500.0, 'prestige': 3.0},\n",
       " 124: {'admit': 0.0, 'gpa': 3.8799999999999999, 'gre': 720.0, 'prestige': 3.0},\n",
       " 125: {'admit': 0.0, 'gpa': 3.3799999999999999, 'gre': 540.0, 'prestige': 4.0},\n",
       " 126: {'admit': 1.0, 'gpa': 3.54, 'gre': 600.0, 'prestige': 1.0},\n",
       " 127: {'admit': 0.0, 'gpa': 3.7400000000000002, 'gre': 740.0, 'prestige': 4.0},\n",
       " 128: {'admit': 0.0, 'gpa': 3.1899999999999999, 'gre': 540.0, 'prestige': 2.0},\n",
       " 129: {'admit': 0.0, 'gpa': 3.1499999999999999, 'gre': 460.0, 'prestige': 4.0},\n",
       " 130: {'admit': 1.0, 'gpa': 3.1699999999999999, 'gre': 620.0, 'prestige': 2.0},\n",
       " 131: {'admit': 0.0, 'gpa': 2.79, 'gre': 640.0, 'prestige': 2.0},\n",
       " 132: {'admit': 0.0, 'gpa': 3.3999999999999999, 'gre': 580.0, 'prestige': 2.0},\n",
       " 133: {'admit': 0.0, 'gpa': 3.0800000000000001, 'gre': 500.0, 'prestige': 3.0},\n",
       " 134: {'admit': 0.0, 'gpa': 2.9500000000000002, 'gre': 560.0, 'prestige': 2.0},\n",
       " 135: {'admit': 0.0, 'gpa': 3.5699999999999998, 'gre': 500.0, 'prestige': 3.0},\n",
       " 136: {'admit': 0.0, 'gpa': 3.3300000000000001, 'gre': 560.0, 'prestige': 4.0},\n",
       " 137: {'admit': 0.0, 'gpa': 4.0, 'gre': 700.0, 'prestige': 3.0},\n",
       " 138: {'admit': 0.0, 'gpa': 3.3999999999999999, 'gre': 620.0, 'prestige': 2.0},\n",
       " 139: {'admit': 1.0, 'gpa': 3.5800000000000001, 'gre': 600.0, 'prestige': 1.0},\n",
       " 140: {'admit': 0.0, 'gpa': 3.9300000000000002, 'gre': 640.0, 'prestige': 2.0},\n",
       " 141: {'admit': 1.0, 'gpa': 3.52, 'gre': 700.0, 'prestige': 4.0},\n",
       " 142: {'admit': 0.0, 'gpa': 3.9399999999999999, 'gre': 620.0, 'prestige': 4.0},\n",
       " 143: {'admit': 0.0, 'gpa': 3.3999999999999999, 'gre': 580.0, 'prestige': 3.0},\n",
       " 144: {'admit': 0.0, 'gpa': 3.3999999999999999, 'gre': 580.0, 'prestige': 4.0},\n",
       " 145: {'admit': 0.0, 'gpa': 3.4300000000000002, 'gre': 380.0, 'prestige': 3.0},\n",
       " 146: {'admit': 0.0, 'gpa': 3.3999999999999999, 'gre': 480.0, 'prestige': 2.0},\n",
       " 147: {'admit': 0.0, 'gpa': 2.71, 'gre': 560.0, 'prestige': 3.0},\n",
       " 148: {'admit': 1.0, 'gpa': 2.9100000000000001, 'gre': 480.0, 'prestige': 1.0},\n",
       " 149: {'admit': 0.0, 'gpa': 3.3100000000000001, 'gre': 740.0, 'prestige': 1.0},\n",
       " 150: {'admit': 1.0, 'gpa': 3.7400000000000002, 'gre': 800.0, 'prestige': 1.0},\n",
       " 151: {'admit': 0.0, 'gpa': 3.3799999999999999, 'gre': 400.0, 'prestige': 2.0},\n",
       " 152: {'admit': 1.0, 'gpa': 3.9399999999999999, 'gre': 640.0, 'prestige': 2.0},\n",
       " 153: {'admit': 0.0, 'gpa': 3.46, 'gre': 580.0, 'prestige': 3.0},\n",
       " 154: {'admit': 0.0, 'gpa': 3.6899999999999999, 'gre': 620.0, 'prestige': 3.0},\n",
       " 155: {'admit': 1.0, 'gpa': 2.8599999999999999, 'gre': 580.0, 'prestige': 4.0},\n",
       " 156: {'admit': 0.0, 'gpa': 2.52, 'gre': 560.0, 'prestige': 2.0},\n",
       " 157: {'admit': 1.0, 'gpa': 3.5800000000000001, 'gre': 480.0, 'prestige': 1.0},\n",
       " 158: {'admit': 0.0, 'gpa': 3.4900000000000002, 'gre': 660.0, 'prestige': 2.0},\n",
       " 159: {'admit': 0.0, 'gpa': 3.8199999999999998, 'gre': 700.0, 'prestige': 3.0},\n",
       " 160: {'admit': 0.0, 'gpa': 3.1299999999999999, 'gre': 600.0, 'prestige': 2.0},\n",
       " 161: {'admit': 0.0, 'gpa': 3.5, 'gre': 640.0, 'prestige': 2.0},\n",
       " 162: {'admit': 1.0, 'gpa': 3.5600000000000001, 'gre': 700.0, 'prestige': 2.0},\n",
       " 163: {'admit': 0.0, 'gpa': 2.73, 'gre': 520.0, 'prestige': 2.0},\n",
       " 164: {'admit': 0.0, 'gpa': 3.2999999999999998, 'gre': 580.0, 'prestige': 2.0},\n",
       " 165: {'admit': 0.0, 'gpa': 4.0, 'gre': 700.0, 'prestige': 1.0},\n",
       " 166: {'admit': 0.0, 'gpa': 3.2400000000000002, 'gre': 440.0, 'prestige': 4.0},\n",
       " 167: {'admit': 0.0, 'gpa': 3.77, 'gre': 720.0, 'prestige': 3.0},\n",
       " 168: {'admit': 0.0, 'gpa': 4.0, 'gre': 500.0, 'prestige': 3.0},\n",
       " 169: {'admit': 0.0, 'gpa': 3.6200000000000001, 'gre': 600.0, 'prestige': 3.0},\n",
       " 170: {'admit': 0.0, 'gpa': 3.5099999999999998, 'gre': 400.0, 'prestige': 3.0},\n",
       " 171: {'admit': 0.0, 'gpa': 2.8100000000000001, 'gre': 540.0, 'prestige': 3.0},\n",
       " 172: {'admit': 0.0, 'gpa': 3.48, 'gre': 680.0, 'prestige': 3.0},\n",
       " 173: {'admit': 1.0, 'gpa': 3.4300000000000002, 'gre': 800.0, 'prestige': 2.0},\n",
       " 174: {'admit': 0.0, 'gpa': 3.5299999999999998, 'gre': 500.0, 'prestige': 4.0},\n",
       " 175: {'admit': 1.0, 'gpa': 3.3700000000000001, 'gre': 620.0, 'prestige': 2.0},\n",
       " 176: {'admit': 0.0, 'gpa': 2.6200000000000001, 'gre': 520.0, 'prestige': 2.0},\n",
       " 177: {'admit': 1.0, 'gpa': 3.23, 'gre': 620.0, 'prestige': 3.0},\n",
       " 178: {'admit': 0.0, 'gpa': 3.3300000000000001, 'gre': 620.0, 'prestige': 3.0},\n",
       " 179: {'admit': 0.0, 'gpa': 3.0099999999999998, 'gre': 300.0, 'prestige': 3.0},\n",
       " 180: {'admit': 0.0, 'gpa': 3.7799999999999998, 'gre': 620.0, 'prestige': 3.0},\n",
       " 181: {'admit': 0.0, 'gpa': 3.8799999999999999, 'gre': 500.0, 'prestige': 4.0},\n",
       " 182: {'admit': 0.0, 'gpa': 4.0, 'gre': 700.0, 'prestige': 2.0},\n",
       " 183: {'admit': 1.0, 'gpa': 3.8399999999999999, 'gre': 540.0, 'prestige': 2.0},\n",
       " 184: {'admit': 0.0, 'gpa': 2.79, 'gre': 500.0, 'prestige': 4.0},\n",
       " 185: {'admit': 0.0, 'gpa': 3.6000000000000001, 'gre': 800.0, 'prestige': 2.0},\n",
       " 186: {'admit': 0.0, 'gpa': 3.6099999999999999, 'gre': 560.0, 'prestige': 3.0},\n",
       " 187: {'admit': 0.0, 'gpa': nan, 'gre': nan, 'prestige': 2.0},\n",
       " 188: {'admit': 0.0, 'gpa': 3.0699999999999998, 'gre': 560.0, 'prestige': 2.0},\n",
       " 189: {'admit': 0.0, 'gpa': 3.3500000000000001, 'gre': 500.0, 'prestige': 2.0},\n",
       " 190: {'admit': 1.0, 'gpa': 2.9399999999999999, 'gre': 640.0, 'prestige': 2.0},\n",
       " 191: {'admit': 0.0, 'gpa': 3.54, 'gre': 800.0, 'prestige': 3.0},\n",
       " 192: {'admit': 0.0, 'gpa': 3.7599999999999998, 'gre': 640.0, 'prestige': 3.0},\n",
       " 193: {'admit': 0.0, 'gpa': 3.5899999999999999, 'gre': 380.0, 'prestige': 4.0},\n",
       " 194: {'admit': 1.0, 'gpa': 3.4700000000000002, 'gre': 600.0, 'prestige': 2.0},\n",
       " 195: {'admit': 0.0, 'gpa': 3.5899999999999999, 'gre': 560.0, 'prestige': 2.0},\n",
       " 196: {'admit': 0.0, 'gpa': 3.0699999999999998, 'gre': 660.0, 'prestige': 3.0},\n",
       " 197: {'admit': 1.0, 'gpa': 3.23, 'gre': 400.0, 'prestige': 4.0},\n",
       " 198: {'admit': 0.0, 'gpa': 3.6299999999999999, 'gre': 600.0, 'prestige': 3.0},\n",
       " 199: {'admit': 0.0, 'gpa': 3.77, 'gre': 580.0, 'prestige': 4.0},\n",
       " 200: {'admit': 0.0, 'gpa': 3.3100000000000001, 'gre': 800.0, 'prestige': 3.0},\n",
       " 201: {'admit': 1.0, 'gpa': 3.2000000000000002, 'gre': 580.0, 'prestige': 2.0},\n",
       " 202: {'admit': 1.0, 'gpa': 4.0, 'gre': 700.0, 'prestige': 1.0},\n",
       " 203: {'admit': 0.0, 'gpa': 3.9199999999999999, 'gre': 420.0, 'prestige': 4.0},\n",
       " 204: {'admit': 1.0, 'gpa': 3.8900000000000001, 'gre': 600.0, 'prestige': 1.0},\n",
       " 205: {'admit': 1.0, 'gpa': 3.7999999999999998, 'gre': 780.0, 'prestige': 3.0},\n",
       " 206: {'admit': 0.0, 'gpa': 3.54, 'gre': 740.0, 'prestige': 1.0},\n",
       " 207: {'admit': 1.0, 'gpa': 3.6299999999999999, 'gre': 640.0, 'prestige': 1.0},\n",
       " 208: {'admit': 0.0, 'gpa': 3.1600000000000001, 'gre': 540.0, 'prestige': 3.0},\n",
       " 209: {'admit': 0.0, 'gpa': 3.5, 'gre': 580.0, 'prestige': 2.0},\n",
       " 210: {'admit': 0.0, 'gpa': 3.3399999999999999, 'gre': 740.0, 'prestige': 4.0},\n",
       " 211: {'admit': 0.0, 'gpa': 3.02, 'gre': 580.0, 'prestige': 2.0},\n",
       " 212: {'admit': 0.0, 'gpa': 2.8700000000000001, 'gre': nan, 'prestige': 2.0},\n",
       " 213: {'admit': 0.0, 'gpa': 3.3799999999999999, 'gre': 640.0, 'prestige': 3.0},\n",
       " 214: {'admit': 1.0, 'gpa': 3.5600000000000001, 'gre': 600.0, 'prestige': 2.0},\n",
       " 215: {'admit': 1.0, 'gpa': 2.9100000000000001, 'gre': 660.0, 'prestige': 3.0},\n",
       " 216: {'admit': 0.0, 'gpa': 2.8999999999999999, 'gre': 340.0, 'prestige': 1.0},\n",
       " 217: {'admit': 1.0, 'gpa': 3.6400000000000001, 'gre': 460.0, 'prestige': 1.0},\n",
       " 218: {'admit': 0.0, 'gpa': 2.98, 'gre': 460.0, 'prestige': 1.0},\n",
       " 219: {'admit': 1.0, 'gpa': 3.5899999999999999, 'gre': 560.0, 'prestige': 2.0},\n",
       " 220: {'admit': 0.0, 'gpa': 3.2799999999999998, 'gre': 540.0, 'prestige': 3.0},\n",
       " 221: {'admit': 0.0, 'gpa': 3.9900000000000002, 'gre': 680.0, 'prestige': 3.0},\n",
       " 222: {'admit': 1.0, 'gpa': 3.02, 'gre': 480.0, 'prestige': 1.0},\n",
       " 223: {'admit': 0.0, 'gpa': 3.4700000000000002, 'gre': 800.0, 'prestige': 3.0},\n",
       " 224: {'admit': 0.0, 'gpa': 2.8999999999999999, 'gre': 800.0, 'prestige': 2.0},\n",
       " 225: {'admit': 1.0, 'gpa': 3.5, 'gre': 720.0, 'prestige': 3.0},\n",
       " 226: {'admit': 0.0, 'gpa': 3.5800000000000001, 'gre': 620.0, 'prestige': 2.0},\n",
       " 227: {'admit': 0.0, 'gpa': 3.02, 'gre': 540.0, 'prestige': 4.0},\n",
       " 228: {'admit': 0.0, 'gpa': 3.4300000000000002, 'gre': 480.0, 'prestige': 2.0},\n",
       " 229: {'admit': 1.0, 'gpa': 3.4199999999999999, 'gre': 720.0, 'prestige': 2.0},\n",
       " 230: {'admit': 0.0, 'gpa': 3.29, 'gre': 580.0, 'prestige': 4.0},\n",
       " 231: {'admit': 0.0, 'gpa': 3.2799999999999998, 'gre': 600.0, 'prestige': 3.0},\n",
       " 232: {'admit': 0.0, 'gpa': 3.3799999999999999, 'gre': 380.0, 'prestige': 2.0},\n",
       " 233: {'admit': 0.0, 'gpa': 2.6699999999999999, 'gre': 420.0, 'prestige': 3.0},\n",
       " 234: {'admit': 1.0, 'gpa': 3.5299999999999998, 'gre': 800.0, 'prestige': 1.0},\n",
       " 235: {'admit': 0.0, 'gpa': 3.0499999999999998, 'gre': 620.0, 'prestige': 2.0},\n",
       " 236: {'admit': 1.0, 'gpa': nan, 'gre': 660.0, 'prestige': nan},\n",
       " 237: {'admit': 0.0, 'gpa': 4.0, 'gre': 480.0, 'prestige': 2.0},\n",
       " 238: {'admit': 0.0, 'gpa': 2.8599999999999999, 'gre': 500.0, 'prestige': 4.0},\n",
       " 239: {'admit': 0.0, 'gpa': 3.4500000000000002, 'gre': 700.0, 'prestige': 3.0},\n",
       " 240: {'admit': 0.0, 'gpa': 2.7599999999999998, 'gre': 440.0, 'prestige': 2.0},\n",
       " 241: {'admit': 1.0, 'gpa': 3.8100000000000001, 'gre': 520.0, 'prestige': 1.0},\n",
       " 242: {'admit': 1.0, 'gpa': 2.96, 'gre': 680.0, 'prestige': 3.0},\n",
       " 243: {'admit': 0.0, 'gpa': 3.2200000000000002, 'gre': 620.0, 'prestige': 2.0},\n",
       " 244: {'admit': 0.0, 'gpa': 3.04, 'gre': 540.0, 'prestige': 1.0},\n",
       " 245: {'admit': 0.0, 'gpa': 3.9100000000000001, 'gre': 800.0, 'prestige': 3.0},\n",
       " 246: {'admit': 0.0, 'gpa': 3.3399999999999999, 'gre': 680.0, 'prestige': 2.0},\n",
       " 247: {'admit': 0.0, 'gpa': 3.1699999999999999, 'gre': 440.0, 'prestige': 2.0},\n",
       " 248: {'admit': 0.0, 'gpa': 3.6400000000000001, 'gre': 680.0, 'prestige': 3.0},\n",
       " 249: {'admit': 0.0, 'gpa': 3.73, 'gre': 640.0, 'prestige': 3.0},\n",
       " 250: {'admit': 0.0, 'gpa': 3.3100000000000001, 'gre': 660.0, 'prestige': 4.0},\n",
       " 251: {'admit': 0.0, 'gpa': 3.21, 'gre': 620.0, 'prestige': 4.0},\n",
       " 252: {'admit': 1.0, 'gpa': 4.0, 'gre': 520.0, 'prestige': 2.0},\n",
       " 253: {'admit': 1.0, 'gpa': 3.5499999999999998, 'gre': 540.0, 'prestige': 4.0},\n",
       " 254: {'admit': 1.0, 'gpa': 3.52, 'gre': 740.0, 'prestige': 4.0},\n",
       " 255: {'admit': 0.0, 'gpa': 3.3500000000000001, 'gre': 640.0, 'prestige': 3.0},\n",
       " 256: {'admit': 1.0, 'gpa': 3.2999999999999998, 'gre': 520.0, 'prestige': 2.0},\n",
       " 257: {'admit': 1.0, 'gpa': 3.9500000000000002, 'gre': 620.0, 'prestige': 3.0},\n",
       " 258: {'admit': 0.0, 'gpa': 3.5099999999999998, 'gre': 520.0, 'prestige': 2.0},\n",
       " 259: {'admit': 0.0, 'gpa': 3.8100000000000001, 'gre': 640.0, 'prestige': 2.0},\n",
       " 260: {'admit': 0.0, 'gpa': 3.1099999999999999, 'gre': 680.0, 'prestige': 2.0},\n",
       " 261: {'admit': 0.0, 'gpa': 3.1499999999999999, 'gre': 440.0, 'prestige': 2.0},\n",
       " 262: {'admit': 1.0, 'gpa': 3.1899999999999999, 'gre': 520.0, 'prestige': 3.0},\n",
       " 263: {'admit': 1.0, 'gpa': 3.9500000000000002, 'gre': 620.0, 'prestige': 3.0},\n",
       " 264: {'admit': 1.0, 'gpa': 3.8999999999999999, 'gre': 520.0, 'prestige': 3.0},\n",
       " 265: {'admit': 0.0, 'gpa': 3.3399999999999999, 'gre': 380.0, 'prestige': 3.0},\n",
       " 266: {'admit': 0.0, 'gpa': 3.2400000000000002, 'gre': 560.0, 'prestige': 4.0},\n",
       " 267: {'admit': 1.0, 'gpa': 3.6400000000000001, 'gre': 600.0, 'prestige': 3.0},\n",
       " 268: {'admit': 1.0, 'gpa': 3.46, 'gre': 680.0, 'prestige': 2.0},\n",
       " 269: {'admit': 0.0, 'gpa': 2.8100000000000001, 'gre': 500.0, 'prestige': 3.0},\n",
       " 270: {'admit': 1.0, 'gpa': 3.9500000000000002, 'gre': 640.0, 'prestige': 2.0},\n",
       " 271: {'admit': 0.0, 'gpa': 3.3300000000000001, 'gre': 540.0, 'prestige': 3.0},\n",
       " 272: {'admit': 1.0, 'gpa': 3.6699999999999999, 'gre': 680.0, 'prestige': 2.0},\n",
       " 273: {'admit': 0.0, 'gpa': 3.3199999999999998, 'gre': 660.0, 'prestige': 1.0},\n",
       " 274: {'admit': 0.0, 'gpa': 3.1200000000000001, 'gre': 520.0, 'prestige': 2.0},\n",
       " 275: {'admit': 1.0, 'gpa': 2.98, 'gre': 600.0, 'prestige': 2.0},\n",
       " 276: {'admit': 0.0, 'gpa': 3.77, 'gre': 460.0, 'prestige': 3.0},\n",
       " 277: {'admit': 1.0, 'gpa': 3.5800000000000001, 'gre': 580.0, 'prestige': 1.0},\n",
       " 278: {'admit': 1.0, 'gpa': 3.0, 'gre': 680.0, 'prestige': 4.0},\n",
       " 279: {'admit': 1.0, 'gpa': 3.1400000000000001, 'gre': 660.0, 'prestige': 2.0},\n",
       " 280: {'admit': 0.0, 'gpa': 3.9399999999999999, 'gre': 660.0, 'prestige': 2.0},\n",
       " 281: {'admit': 0.0, 'gpa': 3.27, 'gre': 360.0, 'prestige': 3.0},\n",
       " 282: {'admit': 0.0, 'gpa': 3.4500000000000002, 'gre': 660.0, 'prestige': 4.0},\n",
       " 283: {'admit': 0.0, 'gpa': 3.1000000000000001, 'gre': 520.0, 'prestige': 4.0},\n",
       " 284: {'admit': 1.0, 'gpa': 3.3900000000000001, 'gre': 440.0, 'prestige': 2.0},\n",
       " 285: {'admit': 0.0, 'gpa': 3.3100000000000001, 'gre': 600.0, 'prestige': 4.0},\n",
       " 286: {'admit': 1.0, 'gpa': 3.2200000000000002, 'gre': 800.0, 'prestige': 1.0},\n",
       " 287: {'admit': 1.0, 'gpa': 3.7000000000000002, 'gre': 660.0, 'prestige': 4.0},\n",
       " 288: {'admit': 0.0, 'gpa': 3.1499999999999999, 'gre': 800.0, 'prestige': 4.0},\n",
       " 289: {'admit': 0.0, 'gpa': 2.2599999999999998, 'gre': 420.0, 'prestige': 4.0},\n",
       " 290: {'admit': 1.0, 'gpa': 3.4500000000000002, 'gre': 620.0, 'prestige': 2.0},\n",
       " 291: {'admit': 0.0, 'gpa': 2.7799999999999998, 'gre': 800.0, 'prestige': 2.0},\n",
       " 292: {'admit': 0.0, 'gpa': 3.7000000000000002, 'gre': 680.0, 'prestige': 2.0},\n",
       " 293: {'admit': 0.0, 'gpa': 3.9700000000000002, 'gre': 800.0, 'prestige': 1.0},\n",
       " 294: {'admit': 0.0, 'gpa': 2.5499999999999998, 'gre': 480.0, 'prestige': 1.0},\n",
       " 295: {'admit': 0.0, 'gpa': 3.25, 'gre': 520.0, 'prestige': 3.0},\n",
       " 296: {'admit': 0.0, 'gpa': 3.1600000000000001, 'gre': 560.0, 'prestige': 1.0},\n",
       " 297: {'admit': 0.0, 'gpa': 3.0699999999999998, 'gre': 460.0, 'prestige': 2.0},\n",
       " 298: {'admit': 0.0, 'gpa': 3.5, 'gre': 540.0, 'prestige': 2.0},\n",
       " 299: {'admit': 0.0, 'gpa': 3.3999999999999999, 'gre': 720.0, 'prestige': 3.0},\n",
       " 300: {'admit': 0.0, 'gpa': 3.2999999999999998, 'gre': 640.0, 'prestige': 2.0},\n",
       " 301: {'admit': 1.0, 'gpa': 3.6000000000000001, 'gre': 660.0, 'prestige': 3.0},\n",
       " 302: {'admit': 1.0, 'gpa': 3.1499999999999999, 'gre': 400.0, 'prestige': 2.0},\n",
       " 303: {'admit': 1.0, 'gpa': 3.98, 'gre': 680.0, 'prestige': 2.0},\n",
       " 304: {'admit': 0.0, 'gpa': 2.8300000000000001, 'gre': 220.0, 'prestige': 3.0},\n",
       " 305: {'admit': 0.0, 'gpa': 3.46, 'gre': 580.0, 'prestige': 4.0},\n",
       " 306: {'admit': 1.0, 'gpa': 3.1699999999999999, 'gre': 540.0, 'prestige': 1.0},\n",
       " 307: {'admit': 0.0, 'gpa': 3.5099999999999998, 'gre': 580.0, 'prestige': 2.0},\n",
       " 308: {'admit': 0.0, 'gpa': 3.1299999999999999, 'gre': 540.0, 'prestige': 2.0},\n",
       " 309: {'admit': 0.0, 'gpa': 2.98, 'gre': 440.0, 'prestige': 3.0},\n",
       " 310: {'admit': 0.0, 'gpa': 4.0, 'gre': 560.0, 'prestige': 3.0},\n",
       " 311: {'admit': 0.0, 'gpa': 3.6699999999999999, 'gre': 660.0, 'prestige': 2.0},\n",
       " 312: {'admit': 0.0, 'gpa': 3.77, 'gre': 660.0, 'prestige': 3.0},\n",
       " 313: {'admit': 1.0, 'gpa': 3.6499999999999999, 'gre': 520.0, 'prestige': 4.0},\n",
       " 314: {'admit': 0.0, 'gpa': 3.46, 'gre': 540.0, 'prestige': 4.0},\n",
       " 315: {'admit': 1.0, 'gpa': 2.8399999999999999, 'gre': 300.0, 'prestige': 2.0},\n",
       " 316: {'admit': 1.0, 'gpa': 3.0, 'gre': 340.0, 'prestige': 2.0},\n",
       " 317: {'admit': 1.0, 'gpa': 3.6299999999999999, 'gre': 780.0, 'prestige': 4.0},\n",
       " 318: {'admit': 1.0, 'gpa': 3.71, 'gre': 480.0, 'prestige': 4.0},\n",
       " 319: {'admit': 0.0, 'gpa': 3.2799999999999998, 'gre': 540.0, 'prestige': 1.0},\n",
       " 320: {'admit': 0.0, 'gpa': 3.1400000000000001, 'gre': 460.0, 'prestige': 3.0},\n",
       " 321: {'admit': 0.0, 'gpa': 3.5800000000000001, 'gre': 460.0, 'prestige': 2.0},\n",
       " 322: {'admit': 0.0, 'gpa': 3.0099999999999998, 'gre': 500.0, 'prestige': 4.0},\n",
       " 323: {'admit': 0.0, 'gpa': 2.6899999999999999, 'gre': 420.0, 'prestige': 2.0},\n",
       " 324: {'admit': 0.0, 'gpa': 2.7000000000000002, 'gre': 520.0, 'prestige': 3.0},\n",
       " 325: {'admit': 0.0, 'gpa': 3.8999999999999999, 'gre': 680.0, 'prestige': 1.0},\n",
       " 326: {'admit': 0.0, 'gpa': 3.3100000000000001, 'gre': 680.0, 'prestige': 2.0},\n",
       " 327: {'admit': 1.0, 'gpa': 3.48, 'gre': 560.0, 'prestige': 2.0},\n",
       " 328: {'admit': 0.0, 'gpa': 3.3399999999999999, 'gre': 580.0, 'prestige': 2.0},\n",
       " 329: {'admit': 0.0, 'gpa': 2.9300000000000002, 'gre': 500.0, 'prestige': 4.0},\n",
       " 330: {'admit': 0.0, 'gpa': 4.0, 'gre': 740.0, 'prestige': 3.0},\n",
       " 331: {'admit': 0.0, 'gpa': 3.5899999999999999, 'gre': 660.0, 'prestige': 3.0},\n",
       " 332: {'admit': 0.0, 'gpa': 2.96, 'gre': 420.0, 'prestige': 1.0},\n",
       " 333: {'admit': 0.0, 'gpa': 3.4300000000000002, 'gre': 560.0, 'prestige': 3.0},\n",
       " 334: {'admit': 1.0, 'gpa': 3.6400000000000001, 'gre': 460.0, 'prestige': 3.0},\n",
       " 335: {'admit': 1.0, 'gpa': 3.71, 'gre': 620.0, 'prestige': 1.0},\n",
       " 336: {'admit': 0.0, 'gpa': 3.1499999999999999, 'gre': 520.0, 'prestige': 3.0},\n",
       " 337: {'admit': 0.0, 'gpa': 3.0899999999999999, 'gre': 620.0, 'prestige': 4.0},\n",
       " 338: {'admit': 0.0, 'gpa': 3.2000000000000002, 'gre': 540.0, 'prestige': 1.0},\n",
       " 339: {'admit': 1.0, 'gpa': 3.4700000000000002, 'gre': 660.0, 'prestige': 3.0},\n",
       " 340: {'admit': 0.0, 'gpa': 3.23, 'gre': 500.0, 'prestige': 4.0},\n",
       " 341: {'admit': 1.0, 'gpa': 2.6499999999999999, 'gre': 560.0, 'prestige': 3.0},\n",
       " 342: {'admit': 0.0, 'gpa': 3.9500000000000002, 'gre': 500.0, 'prestige': 4.0},\n",
       " 343: {'admit': 0.0, 'gpa': 3.0600000000000001, 'gre': 580.0, 'prestige': 2.0},\n",
       " 344: {'admit': 0.0, 'gpa': 3.3500000000000001, 'gre': 520.0, 'prestige': 3.0},\n",
       " 345: {'admit': 0.0, 'gpa': 3.0299999999999998, 'gre': 500.0, 'prestige': 3.0},\n",
       " 346: {'admit': 0.0, 'gpa': 3.3500000000000001, 'gre': 600.0, 'prestige': 2.0},\n",
       " 347: {'admit': 0.0, 'gpa': 3.7999999999999998, 'gre': 580.0, 'prestige': 2.0},\n",
       " 348: {'admit': 0.0, 'gpa': 3.3599999999999999, 'gre': 400.0, 'prestige': 2.0},\n",
       " 349: {'admit': 0.0, 'gpa': 2.8500000000000001, 'gre': 620.0, 'prestige': 2.0},\n",
       " 350: {'admit': 1.0, 'gpa': 4.0, 'gre': 780.0, 'prestige': 2.0},\n",
       " 351: {'admit': 0.0, 'gpa': 3.4300000000000002, 'gre': 620.0, 'prestige': 3.0},\n",
       " 352: {'admit': 1.0, 'gpa': 3.1200000000000001, 'gre': 580.0, 'prestige': 3.0},\n",
       " 353: {'admit': 0.0, 'gpa': 3.52, 'gre': 700.0, 'prestige': 2.0},\n",
       " 354: {'admit': 1.0, 'gpa': 3.7799999999999998, 'gre': 540.0, 'prestige': 2.0},\n",
       " 355: {'admit': 1.0, 'gpa': 2.8100000000000001, 'gre': 760.0, 'prestige': 1.0},\n",
       " 356: {'admit': 0.0, 'gpa': 3.27, 'gre': 700.0, 'prestige': 2.0},\n",
       " 357: {'admit': 0.0, 'gpa': 3.3100000000000001, 'gre': 720.0, 'prestige': 1.0},\n",
       " 358: {'admit': 1.0, 'gpa': 3.6899999999999999, 'gre': 560.0, 'prestige': 3.0},\n",
       " 359: {'admit': 0.0, 'gpa': 3.9399999999999999, 'gre': 720.0, 'prestige': 3.0},\n",
       " 360: {'admit': 1.0, 'gpa': 4.0, 'gre': 520.0, 'prestige': 1.0},\n",
       " 361: {'admit': 1.0, 'gpa': 3.4900000000000002, 'gre': 540.0, 'prestige': 1.0},\n",
       " 362: {'admit': 0.0, 'gpa': 3.1400000000000001, 'gre': 680.0, 'prestige': 2.0},\n",
       " 363: {'admit': 0.0, 'gpa': 3.4399999999999999, 'gre': 460.0, 'prestige': 2.0},\n",
       " 364: {'admit': 1.0, 'gpa': 3.3599999999999999, 'gre': 560.0, 'prestige': 1.0},\n",
       " 365: {'admit': 0.0, 'gpa': 2.7799999999999998, 'gre': 480.0, 'prestige': 3.0},\n",
       " 366: {'admit': 0.0, 'gpa': 2.9300000000000002, 'gre': 460.0, 'prestige': 3.0},\n",
       " 367: {'admit': 0.0, 'gpa': 3.6299999999999999, 'gre': 620.0, 'prestige': 3.0},\n",
       " 368: {'admit': 0.0, 'gpa': 4.0, 'gre': 580.0, 'prestige': 1.0},\n",
       " 369: {'admit': 0.0, 'gpa': 3.8900000000000001, 'gre': 800.0, 'prestige': 2.0},\n",
       " 370: {'admit': 1.0, 'gpa': 3.77, 'gre': 540.0, 'prestige': 2.0},\n",
       " 371: {'admit': 1.0, 'gpa': 3.7599999999999998, 'gre': 680.0, 'prestige': 3.0},\n",
       " 372: {'admit': 1.0, 'gpa': 2.4199999999999999, 'gre': 680.0, 'prestige': 1.0},\n",
       " 373: {'admit': 1.0, 'gpa': 3.3700000000000001, 'gre': 620.0, 'prestige': 1.0},\n",
       " 374: {'admit': 0.0, 'gpa': 3.7799999999999998, 'gre': 560.0, 'prestige': 2.0},\n",
       " 375: {'admit': 0.0, 'gpa': 3.4900000000000002, 'gre': 560.0, 'prestige': 4.0},\n",
       " 376: {'admit': 0.0, 'gpa': 3.6299999999999999, 'gre': 620.0, 'prestige': 2.0},\n",
       " 377: {'admit': 1.0, 'gpa': 4.0, 'gre': 800.0, 'prestige': 2.0},\n",
       " 378: {'admit': 0.0, 'gpa': 3.1200000000000001, 'gre': 640.0, 'prestige': 3.0},\n",
       " 379: {'admit': 0.0, 'gpa': 2.7000000000000002, 'gre': 540.0, 'prestige': 2.0},\n",
       " 380: {'admit': 0.0, 'gpa': 3.6499999999999999, 'gre': 700.0, 'prestige': 2.0},\n",
       " 381: {'admit': 1.0, 'gpa': 3.4900000000000002, 'gre': 540.0, 'prestige': 2.0},\n",
       " 382: {'admit': 0.0, 'gpa': 3.5099999999999998, 'gre': 540.0, 'prestige': 2.0},\n",
       " 383: {'admit': 0.0, 'gpa': 4.0, 'gre': 660.0, 'prestige': 1.0},\n",
       " 384: {'admit': 1.0, 'gpa': 2.6200000000000001, 'gre': 480.0, 'prestige': 2.0},\n",
       " 385: {'admit': 0.0, 'gpa': 3.02, 'gre': 420.0, 'prestige': 1.0},\n",
       " 386: {'admit': 1.0, 'gpa': 3.8599999999999999, 'gre': 740.0, 'prestige': 2.0},\n",
       " 387: {'admit': 0.0, 'gpa': 3.3599999999999999, 'gre': 580.0, 'prestige': 2.0},\n",
       " 388: {'admit': 0.0, 'gpa': 3.1699999999999999, 'gre': 640.0, 'prestige': 2.0},\n",
       " 389: {'admit': 0.0, 'gpa': 3.5099999999999998, 'gre': 640.0, 'prestige': 2.0},\n",
       " 390: {'admit': 1.0, 'gpa': 3.0499999999999998, 'gre': 800.0, 'prestige': 2.0},\n",
       " 391: {'admit': 1.0, 'gpa': 3.8799999999999999, 'gre': 660.0, 'prestige': 2.0},\n",
       " 392: {'admit': 1.0, 'gpa': 3.3799999999999999, 'gre': 600.0, 'prestige': 3.0},\n",
       " 393: {'admit': 1.0, 'gpa': 3.75, 'gre': 620.0, 'prestige': 2.0},\n",
       " 394: {'admit': 1.0, 'gpa': 3.9900000000000002, 'gre': 460.0, 'prestige': 3.0},\n",
       " 395: {'admit': 0.0, 'gpa': 4.0, 'gre': 620.0, 'prestige': 2.0},\n",
       " 396: {'admit': 0.0, 'gpa': 3.04, 'gre': 560.0, 'prestige': 3.0},\n",
       " 397: {'admit': 0.0, 'gpa': 2.6299999999999999, 'gre': 460.0, 'prestige': 2.0},\n",
       " 398: {'admit': 0.0, 'gpa': 3.6499999999999999, 'gre': 700.0, 'prestige': 2.0},\n",
       " 399: {'admit': 0.0, 'gpa': 3.8900000000000001, 'gre': 600.0, 'prestige': 3.0}}"
      ]
     },
     "execution_count": 2,
     "metadata": {},
     "output_type": "execute_result"
    }
   ],
   "source": [
    "df2 = df.to_dict(orient = 'index')\n",
    "df2"
   ]
  },
  {
   "cell_type": "markdown",
   "metadata": {},
   "source": [
    "Answer: (Use the template below)\n",
    "\n",
    "Variable | Description | Type of Variable\n",
    "---|---|---\n",
    "Var 1 | 0 = Not thing, 1 = Thing | Categorical\n",
    "Var 2 | Thing in unit X | Continuous"
   ]
  },
  {
   "cell_type": "markdown",
   "metadata": {},
   "source": [
    "#### Answer: <span style=\"color:blue\"><br>I know we did not need to use pandas - but I started doing it tis way, so I left it here:"
   ]
  },
  {
   "cell_type": "code",
   "execution_count": 3,
   "metadata": {
    "collapsed": false
   },
   "outputs": [
    {
     "data": {
      "text/html": [
       "<div>\n",
       "<table border=\"1\" class=\"dataframe\">\n",
       "  <thead>\n",
       "    <tr style=\"text-align: right;\">\n",
       "      <th></th>\n",
       "      <th>Description</th>\n",
       "      <th>Variable</th>\n",
       "      <th>Variable Type</th>\n",
       "    </tr>\n",
       "  </thead>\n",
       "  <tbody>\n",
       "    <tr>\n",
       "      <th>0</th>\n",
       "      <td>0- reject, 1- admit</td>\n",
       "      <td>admit</td>\n",
       "      <td>categorical</td>\n",
       "    </tr>\n",
       "    <tr>\n",
       "      <th>1</th>\n",
       "      <td>Float - Grade Point Average</td>\n",
       "      <td>gpa</td>\n",
       "      <td>continuous</td>\n",
       "    </tr>\n",
       "    <tr>\n",
       "      <th>2</th>\n",
       "      <td>Integer - GRE Score</td>\n",
       "      <td>gre</td>\n",
       "      <td>continuous</td>\n",
       "    </tr>\n",
       "    <tr>\n",
       "      <th>3</th>\n",
       "      <td>Integer - Prestige of school</td>\n",
       "      <td>prestige</td>\n",
       "      <td>categorical</td>\n",
       "    </tr>\n",
       "  </tbody>\n",
       "</table>\n",
       "</div>"
      ],
      "text/plain": [
       "                    Description  Variable Variable Type\n",
       "0           0- reject, 1- admit     admit   categorical\n",
       "1   Float - Grade Point Average       gpa    continuous\n",
       "2           Integer - GRE Score       gre    continuous\n",
       "3  Integer - Prestige of school  prestige   categorical"
      ]
     },
     "execution_count": 3,
     "metadata": {},
     "output_type": "execute_result"
    }
   ],
   "source": [
    "my_vars = {\"Variable\": [\"admit\", \"gpa\", \"gre\", \"prestige\"],\n",
    "           \"Description\": [\"0- reject, 1- admit\", \"Float - Grade Point Average\", \"Integer - GRE Score\", \"Integer - Prestige of school\"],\n",
    "           \"Variable Type\": [\"categorical\", \"continuous\", \"continuous\", \"categorical\"]\n",
    "            }\n",
    "my_varsDF = pd.DataFrame.from_dict(my_vars, orient = 'columns')\n",
    "\n",
    "my_varsDF"
   ]
  },
  {
   "cell_type": "markdown",
   "metadata": {},
   "source": [
    "We would like to explore the association between X and Y."
   ]
  },
  {
   "cell_type": "markdown",
   "metadata": {},
   "source": [
    "> ### Question 6.  What is the outcome?"
   ]
  },
  {
   "cell_type": "markdown",
   "metadata": {},
   "source": [
    "#### Answer: <span style=\"color:blue\"><br>Prediction of admit/not admit to UCLA\n"
   ]
  },
  {
   "cell_type": "markdown",
   "metadata": {},
   "source": [
    "> ### Question 7.  What are the predictors/covariates?"
   ]
  },
  {
   "cell_type": "markdown",
   "metadata": {},
   "source": [
    "#### Answer: <span style=\"color:blue\"><br>1. GRE test score<br>2. Grade Point Average<br>3. Prestige rating of school student is coming from\n"
   ]
  },
  {
   "cell_type": "markdown",
   "metadata": {},
   "source": [
    "> ### Question 8.  What timeframe is this data relevent for?"
   ]
  },
  {
   "cell_type": "markdown",
   "metadata": {},
   "source": [
    "#### Answer: <span style=\"color:blue\"><br>It is not specified in the data set that we have. Usually this type of information is supplied with a ReadMe file. We would need to conduct some more searching to find this out."
   ]
  },
  {
   "cell_type": "markdown",
   "metadata": {},
   "source": [
    "> ### Question 9.  What is the hypothesis?"
   ]
  },
  {
   "cell_type": "markdown",
   "metadata": {},
   "source": [
    "#### Answer: <span style=\"color:blue\"><br>The hypothesis is: \"Based on the gre score, the gpa, and the school \"prestige\" we can determine the probability of admittance at UCLA\""
   ]
  },
  {
   "cell_type": "markdown",
   "metadata": {},
   "source": [
    "> ### Question 10.  What's the problem statement?\n",
    "\n",
    "> Using your answers to the above questions, write a well-formed problem statement."
   ]
  },
  {
   "cell_type": "markdown",
   "metadata": {},
   "source": [
    "#### Answer: <span style=\"color:blue\"><br>Based on the model, do students who have the exact same gre scores and gpa have different probability of getting admitted to UCLA?"
   ]
  },
  {
   "cell_type": "markdown",
   "metadata": {},
   "source": [
    "## Part C.  Create an exploratory analysis plan by answering the following questions:"
   ]
  },
  {
   "cell_type": "markdown",
   "metadata": {},
   "source": [
    "Because the answers to these questions haven't yet been covered in class yet, this section is optional.  This is by design.  By having you guess or look around for these answers will help make sense once we cover this material in class.  You will not be penalized for wrong answers but we encourage you to give it a try!"
   ]
  },
  {
   "cell_type": "markdown",
   "metadata": {},
   "source": [
    "> ### Question 11. What are the goals of the exploratory analysis?"
   ]
  },
  {
   "cell_type": "markdown",
   "metadata": {
    "collapsed": true
   },
   "source": [
    "#### Answer: <span style=\"color:blue\"><br>The goal is to see if the data looks like it has some meaningful patterns that can be fit using one of the known data science fit methods"
   ]
  },
  {
   "cell_type": "markdown",
   "metadata": {},
   "source": [
    "> ### Question 12.  What are the assumptions of the distribution of data?"
   ]
  },
  {
   "cell_type": "markdown",
   "metadata": {},
   "source": [
    "#### Answer: <span style=\"color:blue\"><br>The assumption is that the data is random and not influenced by some other variable not included"
   ]
  },
  {
   "cell_type": "markdown",
   "metadata": {},
   "source": [
    "> ### Question 13.  How will determine the distribution of your data?"
   ]
  },
  {
   "cell_type": "markdown",
   "metadata": {
    "collapsed": true
   },
   "source": [
    "#### Answer: <span style=\"color:blue\"><br>We will plot it first so we can get an idea as to what is the best fit of our data"
   ]
  },
  {
   "cell_type": "markdown",
   "metadata": {},
   "source": [
    "> ### Question 14.  How might outliers impact your analysis?"
   ]
  },
  {
   "cell_type": "markdown",
   "metadata": {
    "collapsed": true
   },
   "source": [
    "#### Answer: <span style=\"color:blue\"><br>Outliers could skew our results and change the shape (slope, in case of linear regression) of the fit line through the data"
   ]
  },
  {
   "cell_type": "markdown",
   "metadata": {},
   "source": [
    "> ### Question 15.  How will you test for outliers?"
   ]
  },
  {
   "cell_type": "markdown",
   "metadata": {},
   "source": [
    "#### Answer: <span style=\"color:blue\"><br>We will use some statistical tools to see if there are values more than (say) 2 or 3 standard deviations away"
   ]
  },
  {
   "cell_type": "markdown",
   "metadata": {},
   "source": [
    "> ### Question 16.  What is colinearity?"
   ]
  },
  {
   "cell_type": "markdown",
   "metadata": {
    "collapsed": true
   },
   "source": [
    "#### Answer: <span style=\"color:blue\"><br>Colinearity is when two lines have the same tendency: for example, the line <i>gre/probability_of(admittance)</i> slopes positive, and so does <i>gpa/probability_of(admittance)</i>"
   ]
  },
  {
   "cell_type": "markdown",
   "metadata": {},
   "source": [
    "> ### Question 17.  How will you test for covariance?"
   ]
  },
  {
   "cell_type": "markdown",
   "metadata": {},
   "source": [
    "#### Answer: <span style=\"color:blue\"><br>Plot each variable and do a visual test, then use one of the covariance tests that exist"
   ]
  },
  {
   "cell_type": "markdown",
   "metadata": {},
   "source": [
    "> ### Question 18.  What is your exploratory analysis plan?\n",
    "\n",
    "> Using the above information, write an exploratory analysis plan that would allow you or a colleague to reproduce your analysis one year from now."
   ]
  },
  {
   "cell_type": "markdown",
   "metadata": {},
   "source": [
    "#### Answer: <span style=\"color:blue\"><br><ul><li>check assumptions<li>do preliminary selection of appropriate models<li>determine relationships among the explanatory variables<li>assess the direction and rough size of relationships between variables"
   ]
  },
  {
   "cell_type": "code",
   "execution_count": null,
   "metadata": {
    "collapsed": true
   },
   "outputs": [],
   "source": []
  }
 ],
 "metadata": {
  "anaconda-cloud": {},
  "kernelspec": {
   "display_name": "Python [conda root]",
   "language": "python",
   "name": "conda-root-py"
  },
  "language_info": {
   "codemirror_mode": {
    "name": "ipython",
    "version": 2
   },
   "file_extension": ".py",
   "mimetype": "text/x-python",
   "name": "python",
   "nbconvert_exporter": "python",
   "pygments_lexer": "ipython2",
   "version": "2.7.12"
  }
 },
 "nbformat": 4,
 "nbformat_minor": 0
}
