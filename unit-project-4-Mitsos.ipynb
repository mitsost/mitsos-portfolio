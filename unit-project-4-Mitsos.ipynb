{
 "cells": [
  {
   "cell_type": "markdown",
   "metadata": {},
   "source": [
    "# DS-NYC-45 | Unit Project 4: Notebook with Executive Summary\n",
    "\n",
    "In this project, you will summarize and present your analysis from Unit Projects 1-3."
   ]
  },
  {
   "cell_type": "markdown",
   "metadata": {},
   "source": [
    "> ## Question 1.  Introduction\n",
    "> Write a problem statement for this project."
   ]
  },
  {
   "cell_type": "markdown",
   "metadata": {},
   "source": [
    "Answer:\n",
    "\n",
    "Our goal is:\n",
    "To determine if there is an association between <b>graduate school admission</b> and the <b>prestige of a student's undergraduate school</b>> using data from the UCLA admissions data set."
   ]
  },
  {
   "cell_type": "markdown",
   "metadata": {},
   "source": [
    "> ## Question 2.  Dataset\n",
    "> Write up a description of your data and any cleaning that was completed."
   ]
  },
  {
   "cell_type": "markdown",
   "metadata": {},
   "source": [
    "Answer:\n",
    "\n",
    "Our data consists of four data points per student:\n",
    "\n",
    "* GRE Score\n",
    "\n",
    "* GPA\n",
    "\n",
    "* Undergraduate school's prestige (rated from 1 to 4,  where 1 is the highest prestige)\n",
    "\n",
    "* Admitted: yes/no\n",
    "\n",
    "The original data set includes 400 rows, but three of them where incomplete and we dropped them. So, <b>our analysis is based on 397 student records</b>"
   ]
  },
  {
   "cell_type": "markdown",
   "metadata": {
    "collapsed": true
   },
   "source": [
    "> ## Question 3.  Demo\n",
    "> Provide a table that explains the data by admission status."
   ]
  },
  {
   "cell_type": "markdown",
   "metadata": {},
   "source": [
    "|               | Admitted | Not Admitted |   |\n",
    "|---------------|----------|--------------|---|\n",
    "| GPA (average) | 3.49         | 3.35             |   |\n",
    "| GRE (average) | 619      | 574          |   |\n",
    "| P-1           | 33       | 28           | 54.0% success  |\n",
    "| P-2           | 53       | 95           | 35.8% success  |\n",
    "| P-3           | 28       | 93           | 23.1% success  |\n",
    "| P-4           | 12       | 55           | 17.9% success  |"
   ]
  },
  {
   "cell_type": "markdown",
   "metadata": {},
   "source": [
    "> ## Question 4. Methods\n",
    "> Write up the methods used in your analysis."
   ]
  },
  {
   "cell_type": "markdown",
   "metadata": {},
   "source": [
    "Answer:\n",
    "\n",
    "We used pandas to import the data into a dataframe, and then we got rid of the 3 values that had blank entries. So we ended up with 397 rows of data.  Then we used the <b>statsmodel</b> linear regression tool. Using it, we created a categorical linear regression model which uses:\n",
    "* the GRE score\n",
    "* the GPA\n",
    "* the prestige rating of the undersgraduate institution\n",
    "\n",
    "To predict:\n",
    "* Admitted/Rejected\n",
    "\n",
    "\n",
    "Then we did the same, using <b>sklearn</b> (another linear model with a logistical regression function) and we got very similar results."
   ]
  },
  {
   "cell_type": "markdown",
   "metadata": {},
   "source": [
    "> ## Question 5. Results\n",
    "> Write up your results."
   ]
  },
  {
   "cell_type": "markdown",
   "metadata": {},
   "source": [
    "Answer:\n",
    "\n",
    "The results show that there even if a student has a perfect GRE score (800) and a perfect GPA (4.0) the chances of being admitted vary based on the school te student is coming from:\n",
    "Answer: \n",
    "\n",
    "If the student is coming from a tier-1 school:\n",
    "* tier-1 --> 73.4%\n",
    "\n",
    "If the student is coming from a tier-2 school:\n",
    "\n",
    "* tier-2 --> 58.3%\n",
    "\n",
    "If the student is coming from a tier-3 school:\n",
    "\n",
    "* tier-3 --> 42.0%\n",
    "\n",
    "If the student is coming from a tier-4 school:\n",
    "\n",
    "* tier-4 --> 36.9%"
   ]
  },
  {
   "cell_type": "markdown",
   "metadata": {},
   "source": [
    "> ## Question 6. Visuals\n",
    "> Provide a table or visualization of these results."
   ]
  },
  {
   "cell_type": "markdown",
   "metadata": {},
   "source": [
    "Answer:\n",
    "\n",
    "|   |            | Prob. of Admission | Prob. of Rejection | GPA | GRE |\n",
    "|---|------------|----------|--------------|-----|-----|\n",
    "|   | Prestige-1 | 73%      | 27%          | 4.0 | 800 |\n",
    "|   | Prestige-2 | 58%      | 42%          | 4.0 | 800 |\n",
    "|   | Prestige-3 | 42%      | 58%          | 4.0 | 800 |\n",
    "|   | Prestige-4 | 37%      | 63%          | 4.0 | 800 |"
   ]
  },
  {
   "cell_type": "markdown",
   "metadata": {},
   "source": [
    "> ## Question 7.  Discussion\n",
    "> Write up your discussion and future steps."
   ]
  },
  {
   "cell_type": "markdown",
   "metadata": {},
   "source": [
    "Answer: The results show clearly that what undergraduate school one attended influences the probability they will be admitted to UCLA graduate school.  For this model we used Logistic Regression.  We can also try a Random Forest model to validate our data.  Also, a Random Forest would show us if we can get rid of one of our features.\n"
   ]
  },
  {
   "cell_type": "code",
   "execution_count": null,
   "metadata": {
    "collapsed": true
   },
   "outputs": [],
   "source": []
  }
 ],
 "metadata": {
  "anaconda-cloud": {},
  "kernelspec": {
   "display_name": "Python [conda root]",
   "language": "python",
   "name": "conda-root-py"
  },
  "language_info": {
   "codemirror_mode": {
    "name": "ipython",
    "version": 2
   },
   "file_extension": ".py",
   "mimetype": "text/x-python",
   "name": "python",
   "nbconvert_exporter": "python",
   "pygments_lexer": "ipython2",
   "version": "2.7.12"
  }
 },
 "nbformat": 4,
 "nbformat_minor": 0
}
