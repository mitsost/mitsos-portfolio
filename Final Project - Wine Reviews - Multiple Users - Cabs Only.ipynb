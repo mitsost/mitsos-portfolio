{
 "cells": [
  {
   "cell_type": "markdown",
   "metadata": {},
   "source": [
    "### 1. First things first: importing pandas, numpy, etc"
   ]
  },
  {
   "cell_type": "code",
   "execution_count": 34,
   "metadata": {
    "collapsed": false
   },
   "outputs": [],
   "source": [
    "# Preliminary - importing modules\n",
    "import pandas as pd\n",
    "import numpy as np\n",
    "import matplotlib.pyplot as plt\n",
    "%matplotlib inline\n",
    "from sklearn.model_selection import train_test_split"
   ]
  },
  {
   "cell_type": "markdown",
   "metadata": {},
   "source": [
    "### 2. Reading the CSV file with the data\n",
    "This csv file below (jennings.csv) contains a subset of the data - it is the tasting notes of one user (userid=70, username=\"Richard Jennings\") who has written approximately 30,000 notes/reviews"
   ]
  },
  {
   "cell_type": "code",
   "execution_count": 35,
   "metadata": {
    "collapsed": false
   },
   "outputs": [],
   "source": [
    "# Reading in the data from the CSV file\n",
    "bigdf = pd.read_csv('Rated_305k.csv', usecols=[1,2,3,4,5,6,7,8,9])"
   ]
  },
  {
   "cell_type": "code",
   "execution_count": 36,
   "metadata": {
    "collapsed": false
   },
   "outputs": [
    {
     "data": {
      "text/plain": [
       "w.name        304827\n",
       "w.id          304827\n",
       "w.type        304827\n",
       "w.year        304827\n",
       "r.rating      304827\n",
       "r.time        304827\n",
       "r.userid      304827\n",
       "r.username    304827\n",
       "r.text        304827\n",
       "dtype: int64"
      ]
     },
     "execution_count": 36,
     "metadata": {},
     "output_type": "execute_result"
    }
   ],
   "source": [
    "# Examine the data\n",
    "bigdf.count()"
   ]
  },
  {
   "cell_type": "code",
   "execution_count": 37,
   "metadata": {
    "collapsed": false
   },
   "outputs": [
    {
     "data": {
      "text/html": [
       "<div>\n",
       "<table border=\"1\" class=\"dataframe\">\n",
       "  <thead>\n",
       "    <tr style=\"text-align: right;\">\n",
       "      <th></th>\n",
       "      <th>w.name</th>\n",
       "      <th>w.id</th>\n",
       "      <th>w.type</th>\n",
       "      <th>w.year</th>\n",
       "      <th>r.rating</th>\n",
       "      <th>r.time</th>\n",
       "      <th>r.userid</th>\n",
       "      <th>r.username</th>\n",
       "      <th>r.text</th>\n",
       "    </tr>\n",
       "  </thead>\n",
       "  <tbody>\n",
       "    <tr>\n",
       "      <th>0</th>\n",
       "      <td>1981 Chateau de Beaucastel Chateauneuf-du-Pape</td>\n",
       "      <td>18856</td>\n",
       "      <td>Red Rhone Blend</td>\n",
       "      <td>1981.0</td>\n",
       "      <td>96.0</td>\n",
       "      <td>1160179200</td>\n",
       "      <td>1</td>\n",
       "      <td>Eric</td>\n",
       "      <td>Olive, horse sweat, dirty saddle, and smoke. T...</td>\n",
       "    </tr>\n",
       "    <tr>\n",
       "      <th>1</th>\n",
       "      <td>1995 Chateau Pichon-Longueville Baron</td>\n",
       "      <td>3495</td>\n",
       "      <td>Red Bordeaux Blend</td>\n",
       "      <td>1995.0</td>\n",
       "      <td>93.0</td>\n",
       "      <td>1063929600</td>\n",
       "      <td>1</td>\n",
       "      <td>Eric</td>\n",
       "      <td>A remarkably floral nose with violet and chamb...</td>\n",
       "    </tr>\n",
       "    <tr>\n",
       "      <th>2</th>\n",
       "      <td>2001 Thierry Allemand Cornas Reynard</td>\n",
       "      <td>40451</td>\n",
       "      <td>Syrah</td>\n",
       "      <td>2001.0</td>\n",
       "      <td>92.0</td>\n",
       "      <td>1195948800</td>\n",
       "      <td>1</td>\n",
       "      <td>Eric</td>\n",
       "      <td>Fantastic wine! Blackberry, smoke, olive, stem...</td>\n",
       "    </tr>\n",
       "    <tr>\n",
       "      <th>3</th>\n",
       "      <td>1990 Krug Champagne Brut</td>\n",
       "      <td>16892</td>\n",
       "      <td>Champagne Blend</td>\n",
       "      <td>1990.0</td>\n",
       "      <td>96.0</td>\n",
       "      <td>1134172800</td>\n",
       "      <td>1</td>\n",
       "      <td>Eric</td>\n",
       "      <td>Much more yeasty, very Krug-like (guessed blin...</td>\n",
       "    </tr>\n",
       "    <tr>\n",
       "      <th>4</th>\n",
       "      <td>2002 Weingut Hirsch Gruner Veltliner Kammern</td>\n",
       "      <td>17478</td>\n",
       "      <td>Gruner Veltliner</td>\n",
       "      <td>2002.0</td>\n",
       "      <td>92.0</td>\n",
       "      <td>1082851200</td>\n",
       "      <td>1</td>\n",
       "      <td>Eric</td>\n",
       "      <td>This shows a very ripe nose with chalky notes....</td>\n",
       "    </tr>\n",
       "  </tbody>\n",
       "</table>\n",
       "</div>"
      ],
      "text/plain": [
       "                                           w.name   w.id              w.type  \\\n",
       "0  1981 Chateau de Beaucastel Chateauneuf-du-Pape  18856     Red Rhone Blend   \n",
       "1           1995 Chateau Pichon-Longueville Baron   3495  Red Bordeaux Blend   \n",
       "2            2001 Thierry Allemand Cornas Reynard  40451               Syrah   \n",
       "3                        1990 Krug Champagne Brut  16892     Champagne Blend   \n",
       "4    2002 Weingut Hirsch Gruner Veltliner Kammern  17478    Gruner Veltliner   \n",
       "\n",
       "   w.year  r.rating      r.time  r.userid r.username  \\\n",
       "0  1981.0      96.0  1160179200         1       Eric   \n",
       "1  1995.0      93.0  1063929600         1       Eric   \n",
       "2  2001.0      92.0  1195948800         1       Eric   \n",
       "3  1990.0      96.0  1134172800         1       Eric   \n",
       "4  2002.0      92.0  1082851200         1       Eric   \n",
       "\n",
       "                                              r.text  \n",
       "0  Olive, horse sweat, dirty saddle, and smoke. T...  \n",
       "1  A remarkably floral nose with violet and chamb...  \n",
       "2  Fantastic wine! Blackberry, smoke, olive, stem...  \n",
       "3  Much more yeasty, very Krug-like (guessed blin...  \n",
       "4  This shows a very ripe nose with chalky notes....  "
      ]
     },
     "execution_count": 37,
     "metadata": {},
     "output_type": "execute_result"
    }
   ],
   "source": [
    "bigdf.head()"
   ]
  },
  {
   "cell_type": "code",
   "execution_count": 38,
   "metadata": {
    "collapsed": false
   },
   "outputs": [
    {
     "data": {
      "text/html": [
       "<div>\n",
       "<table border=\"1\" class=\"dataframe\">\n",
       "  <thead>\n",
       "    <tr style=\"text-align: right;\">\n",
       "      <th></th>\n",
       "      <th>w.id</th>\n",
       "      <th>w.year</th>\n",
       "      <th>r.rating</th>\n",
       "      <th>r.time</th>\n",
       "      <th>r.userid</th>\n",
       "    </tr>\n",
       "  </thead>\n",
       "  <tbody>\n",
       "    <tr>\n",
       "      <th>count</th>\n",
       "      <td>3.048270e+05</td>\n",
       "      <td>304827.000000</td>\n",
       "      <td>304827.000000</td>\n",
       "      <td>3.048270e+05</td>\n",
       "      <td>304827.000000</td>\n",
       "    </tr>\n",
       "    <tr>\n",
       "      <th>mean</th>\n",
       "      <td>4.645935e+05</td>\n",
       "      <td>2003.259701</td>\n",
       "      <td>88.878137</td>\n",
       "      <td>1.251482e+09</td>\n",
       "      <td>54832.622310</td>\n",
       "    </tr>\n",
       "    <tr>\n",
       "      <th>std</th>\n",
       "      <td>3.700204e+05</td>\n",
       "      <td>6.576554</td>\n",
       "      <td>4.149561</td>\n",
       "      <td>7.236289e+07</td>\n",
       "      <td>55374.242633</td>\n",
       "    </tr>\n",
       "    <tr>\n",
       "      <th>min</th>\n",
       "      <td>1.000000e+00</td>\n",
       "      <td>1795.000000</td>\n",
       "      <td>50.000000</td>\n",
       "      <td>4.640544e+08</td>\n",
       "      <td>1.000000</td>\n",
       "    </tr>\n",
       "    <tr>\n",
       "      <th>25%</th>\n",
       "      <td>1.316360e+05</td>\n",
       "      <td>2002.000000</td>\n",
       "      <td>87.000000</td>\n",
       "      <td>1.208650e+09</td>\n",
       "      <td>12625.000000</td>\n",
       "    </tr>\n",
       "    <tr>\n",
       "      <th>50%</th>\n",
       "      <td>4.089660e+05</td>\n",
       "      <td>2005.000000</td>\n",
       "      <td>89.000000</td>\n",
       "      <td>1.263600e+09</td>\n",
       "      <td>36708.000000</td>\n",
       "    </tr>\n",
       "    <tr>\n",
       "      <th>75%</th>\n",
       "      <td>7.099110e+05</td>\n",
       "      <td>2007.000000</td>\n",
       "      <td>91.000000</td>\n",
       "      <td>1.306541e+09</td>\n",
       "      <td>81558.000000</td>\n",
       "    </tr>\n",
       "    <tr>\n",
       "      <th>max</th>\n",
       "      <td>1.466790e+06</td>\n",
       "      <td>2012.000000</td>\n",
       "      <td>100.000000</td>\n",
       "      <td>1.349482e+09</td>\n",
       "      <td>256379.000000</td>\n",
       "    </tr>\n",
       "  </tbody>\n",
       "</table>\n",
       "</div>"
      ],
      "text/plain": [
       "               w.id         w.year       r.rating        r.time       r.userid\n",
       "count  3.048270e+05  304827.000000  304827.000000  3.048270e+05  304827.000000\n",
       "mean   4.645935e+05    2003.259701      88.878137  1.251482e+09   54832.622310\n",
       "std    3.700204e+05       6.576554       4.149561  7.236289e+07   55374.242633\n",
       "min    1.000000e+00    1795.000000      50.000000  4.640544e+08       1.000000\n",
       "25%    1.316360e+05    2002.000000      87.000000  1.208650e+09   12625.000000\n",
       "50%    4.089660e+05    2005.000000      89.000000  1.263600e+09   36708.000000\n",
       "75%    7.099110e+05    2007.000000      91.000000  1.306541e+09   81558.000000\n",
       "max    1.466790e+06    2012.000000     100.000000  1.349482e+09  256379.000000"
      ]
     },
     "execution_count": 38,
     "metadata": {},
     "output_type": "execute_result"
    }
   ],
   "source": [
    "# We can see that the average rating given is 89.8 points\n",
    "bigdf.describe()"
   ]
  },
  {
   "cell_type": "code",
   "execution_count": 39,
   "metadata": {
    "collapsed": false
   },
   "outputs": [
    {
     "data": {
      "text/plain": [
       "w.name        304827\n",
       "w.id          304827\n",
       "w.type        304827\n",
       "w.year        304827\n",
       "r.rating      304827\n",
       "r.time        304827\n",
       "r.userid      304827\n",
       "r.username    304827\n",
       "r.text        304827\n",
       "dtype: int64"
      ]
     },
     "execution_count": 39,
     "metadata": {},
     "output_type": "execute_result"
    }
   ],
   "source": [
    "#Getting rid of empty data\n",
    "bigdf = bigdf.dropna()\n",
    "bigdf.count()"
   ]
  },
  {
   "cell_type": "code",
   "execution_count": 40,
   "metadata": {
    "collapsed": false
   },
   "outputs": [
    {
     "data": {
      "text/plain": [
       "count    304827.000000\n",
       "mean         88.878137\n",
       "std           4.149561\n",
       "min          50.000000\n",
       "25%          87.000000\n",
       "50%          89.000000\n",
       "75%          91.000000\n",
       "max         100.000000\n",
       "Name: r.rating, dtype: float64"
      ]
     },
     "execution_count": 40,
     "metadata": {},
     "output_type": "execute_result"
    }
   ],
   "source": [
    "bigdf['r.rating'].describe()"
   ]
  },
  {
   "cell_type": "code",
   "execution_count": 41,
   "metadata": {
    "collapsed": false
   },
   "outputs": [
    {
     "data": {
      "text/plain": [
       "304487"
      ]
     },
     "execution_count": 41,
     "metadata": {},
     "output_type": "execute_result"
    }
   ],
   "source": [
    "bigdf = bigdf[bigdf[\"w.year\"] > 1950]\n",
    "len(bigdf)"
   ]
  },
  {
   "cell_type": "code",
   "execution_count": 42,
   "metadata": {
    "collapsed": true
   },
   "outputs": [],
   "source": [
    "# Make a copy\n",
    "df = bigdf"
   ]
  },
  {
   "cell_type": "code",
   "execution_count": 43,
   "metadata": {
    "collapsed": false
   },
   "outputs": [
    {
     "data": {
      "text/html": [
       "<div>\n",
       "<table border=\"1\" class=\"dataframe\">\n",
       "  <thead>\n",
       "    <tr style=\"text-align: right;\">\n",
       "      <th></th>\n",
       "      <th>w.name</th>\n",
       "      <th>w.id</th>\n",
       "      <th>w.type</th>\n",
       "      <th>w.year</th>\n",
       "      <th>r.rating</th>\n",
       "      <th>r.time</th>\n",
       "      <th>r.userid</th>\n",
       "      <th>r.username</th>\n",
       "      <th>r.text</th>\n",
       "    </tr>\n",
       "  </thead>\n",
       "  <tbody>\n",
       "    <tr>\n",
       "      <th>0</th>\n",
       "      <td>1981 Chateau de Beaucastel Chateauneuf-du-Pape</td>\n",
       "      <td>18856</td>\n",
       "      <td>Red Rhone Blend</td>\n",
       "      <td>1981.0</td>\n",
       "      <td>96.0</td>\n",
       "      <td>1160179200</td>\n",
       "      <td>1</td>\n",
       "      <td>Eric</td>\n",
       "      <td>Olive, horse sweat, dirty saddle, and smoke. T...</td>\n",
       "    </tr>\n",
       "    <tr>\n",
       "      <th>1</th>\n",
       "      <td>1995 Chateau Pichon-Longueville Baron</td>\n",
       "      <td>3495</td>\n",
       "      <td>Red Bordeaux Blend</td>\n",
       "      <td>1995.0</td>\n",
       "      <td>93.0</td>\n",
       "      <td>1063929600</td>\n",
       "      <td>1</td>\n",
       "      <td>Eric</td>\n",
       "      <td>A remarkably floral nose with violet and chamb...</td>\n",
       "    </tr>\n",
       "    <tr>\n",
       "      <th>2</th>\n",
       "      <td>2001 Thierry Allemand Cornas Reynard</td>\n",
       "      <td>40451</td>\n",
       "      <td>Syrah</td>\n",
       "      <td>2001.0</td>\n",
       "      <td>92.0</td>\n",
       "      <td>1195948800</td>\n",
       "      <td>1</td>\n",
       "      <td>Eric</td>\n",
       "      <td>Fantastic wine! Blackberry, smoke, olive, stem...</td>\n",
       "    </tr>\n",
       "    <tr>\n",
       "      <th>3</th>\n",
       "      <td>1990 Krug Champagne Brut</td>\n",
       "      <td>16892</td>\n",
       "      <td>Champagne Blend</td>\n",
       "      <td>1990.0</td>\n",
       "      <td>96.0</td>\n",
       "      <td>1134172800</td>\n",
       "      <td>1</td>\n",
       "      <td>Eric</td>\n",
       "      <td>Much more yeasty, very Krug-like (guessed blin...</td>\n",
       "    </tr>\n",
       "    <tr>\n",
       "      <th>4</th>\n",
       "      <td>2002 Weingut Hirsch Gruner Veltliner Kammern</td>\n",
       "      <td>17478</td>\n",
       "      <td>Gruner Veltliner</td>\n",
       "      <td>2002.0</td>\n",
       "      <td>92.0</td>\n",
       "      <td>1082851200</td>\n",
       "      <td>1</td>\n",
       "      <td>Eric</td>\n",
       "      <td>This shows a very ripe nose with chalky notes....</td>\n",
       "    </tr>\n",
       "  </tbody>\n",
       "</table>\n",
       "</div>"
      ],
      "text/plain": [
       "                                           w.name   w.id              w.type  \\\n",
       "0  1981 Chateau de Beaucastel Chateauneuf-du-Pape  18856     Red Rhone Blend   \n",
       "1           1995 Chateau Pichon-Longueville Baron   3495  Red Bordeaux Blend   \n",
       "2            2001 Thierry Allemand Cornas Reynard  40451               Syrah   \n",
       "3                        1990 Krug Champagne Brut  16892     Champagne Blend   \n",
       "4    2002 Weingut Hirsch Gruner Veltliner Kammern  17478    Gruner Veltliner   \n",
       "\n",
       "   w.year  r.rating      r.time  r.userid r.username  \\\n",
       "0  1981.0      96.0  1160179200         1       Eric   \n",
       "1  1995.0      93.0  1063929600         1       Eric   \n",
       "2  2001.0      92.0  1195948800         1       Eric   \n",
       "3  1990.0      96.0  1134172800         1       Eric   \n",
       "4  2002.0      92.0  1082851200         1       Eric   \n",
       "\n",
       "                                              r.text  \n",
       "0  Olive, horse sweat, dirty saddle, and smoke. T...  \n",
       "1  A remarkably floral nose with violet and chamb...  \n",
       "2  Fantastic wine! Blackberry, smoke, olive, stem...  \n",
       "3  Much more yeasty, very Krug-like (guessed blin...  \n",
       "4  This shows a very ripe nose with chalky notes....  "
      ]
     },
     "execution_count": 43,
     "metadata": {},
     "output_type": "execute_result"
    }
   ],
   "source": [
    "df.head()"
   ]
  },
  {
   "cell_type": "code",
   "execution_count": 44,
   "metadata": {
    "collapsed": false
   },
   "outputs": [],
   "source": [
    "df = df.reset_index(drop=True)"
   ]
  },
  {
   "cell_type": "code",
   "execution_count": 45,
   "metadata": {
    "collapsed": false
   },
   "outputs": [],
   "source": [
    "df['r.rating'] = pd.to_numeric(df['r.rating'])"
   ]
  },
  {
   "cell_type": "code",
   "execution_count": 46,
   "metadata": {
    "collapsed": false
   },
   "outputs": [],
   "source": [
    "df['w.year'] = pd.to_numeric(df['w.year'])"
   ]
  },
  {
   "cell_type": "code",
   "execution_count": 47,
   "metadata": {
    "collapsed": false
   },
   "outputs": [],
   "source": [
    "df['cat'] = np.where(df['r.rating'] < 80, \"OK\", np.where(df['r.rating'] < 90, \"Good\", np.where(df['r.rating'] < 96, \"Very Good\", \"Collectible\")))"
   ]
  },
  {
   "cell_type": "code",
   "execution_count": 48,
   "metadata": {
    "collapsed": false
   },
   "outputs": [
    {
     "data": {
      "text/html": [
       "<div>\n",
       "<table border=\"1\" class=\"dataframe\">\n",
       "  <thead>\n",
       "    <tr style=\"text-align: right;\">\n",
       "      <th></th>\n",
       "      <th>w.name</th>\n",
       "      <th>w.id</th>\n",
       "      <th>w.type</th>\n",
       "      <th>w.year</th>\n",
       "      <th>r.rating</th>\n",
       "      <th>r.time</th>\n",
       "      <th>r.userid</th>\n",
       "      <th>r.username</th>\n",
       "      <th>r.text</th>\n",
       "      <th>cat</th>\n",
       "    </tr>\n",
       "  </thead>\n",
       "  <tbody>\n",
       "    <tr>\n",
       "      <th>0</th>\n",
       "      <td>1981 Chateau de Beaucastel Chateauneuf-du-Pape</td>\n",
       "      <td>18856</td>\n",
       "      <td>Red Rhone Blend</td>\n",
       "      <td>1981.0</td>\n",
       "      <td>96.0</td>\n",
       "      <td>1160179200</td>\n",
       "      <td>1</td>\n",
       "      <td>Eric</td>\n",
       "      <td>Olive, horse sweat, dirty saddle, and smoke. T...</td>\n",
       "      <td>Collectible</td>\n",
       "    </tr>\n",
       "    <tr>\n",
       "      <th>1</th>\n",
       "      <td>1995 Chateau Pichon-Longueville Baron</td>\n",
       "      <td>3495</td>\n",
       "      <td>Red Bordeaux Blend</td>\n",
       "      <td>1995.0</td>\n",
       "      <td>93.0</td>\n",
       "      <td>1063929600</td>\n",
       "      <td>1</td>\n",
       "      <td>Eric</td>\n",
       "      <td>A remarkably floral nose with violet and chamb...</td>\n",
       "      <td>Very Good</td>\n",
       "    </tr>\n",
       "    <tr>\n",
       "      <th>2</th>\n",
       "      <td>2001 Thierry Allemand Cornas Reynard</td>\n",
       "      <td>40451</td>\n",
       "      <td>Syrah</td>\n",
       "      <td>2001.0</td>\n",
       "      <td>92.0</td>\n",
       "      <td>1195948800</td>\n",
       "      <td>1</td>\n",
       "      <td>Eric</td>\n",
       "      <td>Fantastic wine! Blackberry, smoke, olive, stem...</td>\n",
       "      <td>Very Good</td>\n",
       "    </tr>\n",
       "  </tbody>\n",
       "</table>\n",
       "</div>"
      ],
      "text/plain": [
       "                                           w.name   w.id              w.type  \\\n",
       "0  1981 Chateau de Beaucastel Chateauneuf-du-Pape  18856     Red Rhone Blend   \n",
       "1           1995 Chateau Pichon-Longueville Baron   3495  Red Bordeaux Blend   \n",
       "2            2001 Thierry Allemand Cornas Reynard  40451               Syrah   \n",
       "\n",
       "   w.year  r.rating      r.time  r.userid r.username  \\\n",
       "0  1981.0      96.0  1160179200         1       Eric   \n",
       "1  1995.0      93.0  1063929600         1       Eric   \n",
       "2  2001.0      92.0  1195948800         1       Eric   \n",
       "\n",
       "                                              r.text          cat  \n",
       "0  Olive, horse sweat, dirty saddle, and smoke. T...  Collectible  \n",
       "1  A remarkably floral nose with violet and chamb...    Very Good  \n",
       "2  Fantastic wine! Blackberry, smoke, olive, stem...    Very Good  "
      ]
     },
     "execution_count": 48,
     "metadata": {},
     "output_type": "execute_result"
    }
   ],
   "source": [
    "df.head(3)"
   ]
  },
  {
   "cell_type": "code",
   "execution_count": 49,
   "metadata": {
    "collapsed": false
   },
   "outputs": [
    {
     "name": "stdout",
     "output_type": "stream",
     "text": [
      "<class 'pandas.core.frame.DataFrame'>\n",
      "RangeIndex: 304487 entries, 0 to 304486\n",
      "Data columns (total 10 columns):\n",
      "w.name        304487 non-null object\n",
      "w.id          304487 non-null int64\n",
      "w.type        304487 non-null object\n",
      "w.year        304487 non-null float64\n",
      "r.rating      304487 non-null float64\n",
      "r.time        304487 non-null int64\n",
      "r.userid      304487 non-null int64\n",
      "r.username    304487 non-null object\n",
      "r.text        304487 non-null object\n",
      "cat           304487 non-null object\n",
      "dtypes: float64(2), int64(3), object(5)\n",
      "memory usage: 23.2+ MB\n"
     ]
    }
   ],
   "source": [
    "df.info()"
   ]
  },
  {
   "cell_type": "code",
   "execution_count": 50,
   "metadata": {
    "collapsed": true
   },
   "outputs": [],
   "source": [
    "df_cabs = df[df['w.type'] == \" Cabernet Sauvignon\"]"
   ]
  },
  {
   "cell_type": "code",
   "execution_count": 51,
   "metadata": {
    "collapsed": false
   },
   "outputs": [
    {
     "data": {
      "text/html": [
       "<div>\n",
       "<table border=\"1\" class=\"dataframe\">\n",
       "  <thead>\n",
       "    <tr style=\"text-align: right;\">\n",
       "      <th></th>\n",
       "      <th>w.name</th>\n",
       "      <th>w.id</th>\n",
       "      <th>w.type</th>\n",
       "      <th>w.year</th>\n",
       "      <th>r.rating</th>\n",
       "      <th>r.time</th>\n",
       "      <th>r.userid</th>\n",
       "      <th>r.username</th>\n",
       "      <th>r.text</th>\n",
       "      <th>cat</th>\n",
       "    </tr>\n",
       "  </thead>\n",
       "  <tbody>\n",
       "    <tr>\n",
       "      <th>1231</th>\n",
       "      <td>1999 Ross Andrew Winery Cabernet Sauvignon</td>\n",
       "      <td>2006</td>\n",
       "      <td>Cabernet Sauvignon</td>\n",
       "      <td>1999.0</td>\n",
       "      <td>92.0</td>\n",
       "      <td>1099958400</td>\n",
       "      <td>1</td>\n",
       "      <td>Eric</td>\n",
       "      <td>Wow, this wine continues to deliver. Upon fir...</td>\n",
       "      <td>Very Good</td>\n",
       "    </tr>\n",
       "    <tr>\n",
       "      <th>1234</th>\n",
       "      <td>1997 Quilceda Creek Cabernet Sauvignon</td>\n",
       "      <td>379</td>\n",
       "      <td>Cabernet Sauvignon</td>\n",
       "      <td>1997.0</td>\n",
       "      <td>91.0</td>\n",
       "      <td>1117584000</td>\n",
       "      <td>1</td>\n",
       "      <td>Eric</td>\n",
       "      <td>A sweet nose of graham cracker. The palate is...</td>\n",
       "      <td>Very Good</td>\n",
       "    </tr>\n",
       "    <tr>\n",
       "      <th>1237</th>\n",
       "      <td>2001 Kiona Cabernet Sauvignon Reserve</td>\n",
       "      <td>4363</td>\n",
       "      <td>Cabernet Sauvignon</td>\n",
       "      <td>2001.0</td>\n",
       "      <td>88.0</td>\n",
       "      <td>1069372800</td>\n",
       "      <td>1</td>\n",
       "      <td>Eric</td>\n",
       "      <td>This has a stunningly Bordeaux-like nose with...</td>\n",
       "      <td>Good</td>\n",
       "    </tr>\n",
       "    <tr>\n",
       "      <th>1247</th>\n",
       "      <td>1991 Robert Mondavi Winery Cabernet Sauvignon...</td>\n",
       "      <td>4065</td>\n",
       "      <td>Cabernet Sauvignon</td>\n",
       "      <td>1991.0</td>\n",
       "      <td>97.0</td>\n",
       "      <td>1146268800</td>\n",
       "      <td>1</td>\n",
       "      <td>Eric</td>\n",
       "      <td>Wine of the night. Big notes of cola on the n...</td>\n",
       "      <td>Collectible</td>\n",
       "    </tr>\n",
       "    <tr>\n",
       "      <th>1253</th>\n",
       "      <td>1990 Leonetti Cellar Cabernet Sauvignon Washi...</td>\n",
       "      <td>2067</td>\n",
       "      <td>Cabernet Sauvignon</td>\n",
       "      <td>1990.0</td>\n",
       "      <td>91.0</td>\n",
       "      <td>1039305600</td>\n",
       "      <td>1</td>\n",
       "      <td>Eric</td>\n",
       "      <td>Tasted with Patrick, Walt &amp; Chuck. I REALLY l...</td>\n",
       "      <td>Very Good</td>\n",
       "    </tr>\n",
       "  </tbody>\n",
       "</table>\n",
       "</div>"
      ],
      "text/plain": [
       "                                                 w.name  w.id  \\\n",
       "1231         1999 Ross Andrew Winery Cabernet Sauvignon  2006   \n",
       "1234             1997 Quilceda Creek Cabernet Sauvignon   379   \n",
       "1237              2001 Kiona Cabernet Sauvignon Reserve  4363   \n",
       "1247   1991 Robert Mondavi Winery Cabernet Sauvignon...  4065   \n",
       "1253   1990 Leonetti Cellar Cabernet Sauvignon Washi...  2067   \n",
       "\n",
       "                   w.type  w.year  r.rating      r.time  r.userid r.username  \\\n",
       "1231   Cabernet Sauvignon  1999.0      92.0  1099958400         1       Eric   \n",
       "1234   Cabernet Sauvignon  1997.0      91.0  1117584000         1       Eric   \n",
       "1237   Cabernet Sauvignon  2001.0      88.0  1069372800         1       Eric   \n",
       "1247   Cabernet Sauvignon  1991.0      97.0  1146268800         1       Eric   \n",
       "1253   Cabernet Sauvignon  1990.0      91.0  1039305600         1       Eric   \n",
       "\n",
       "                                                 r.text          cat  \n",
       "1231   Wow, this wine continues to deliver. Upon fir...    Very Good  \n",
       "1234   A sweet nose of graham cracker. The palate is...    Very Good  \n",
       "1237   This has a stunningly Bordeaux-like nose with...         Good  \n",
       "1247   Wine of the night. Big notes of cola on the n...  Collectible  \n",
       "1253   Tasted with Patrick, Walt & Chuck. I REALLY l...    Very Good  "
      ]
     },
     "execution_count": 51,
     "metadata": {},
     "output_type": "execute_result"
    }
   ],
   "source": [
    "df_cabs.head()"
   ]
  },
  {
   "cell_type": "code",
   "execution_count": 52,
   "metadata": {
    "collapsed": false
   },
   "outputs": [
    {
     "data": {
      "text/html": [
       "<div>\n",
       "<table border=\"1\" class=\"dataframe\">\n",
       "  <thead>\n",
       "    <tr style=\"text-align: right;\">\n",
       "      <th></th>\n",
       "      <th>w.name</th>\n",
       "      <th>w.id</th>\n",
       "      <th>w.type</th>\n",
       "      <th>w.year</th>\n",
       "      <th>r.rating</th>\n",
       "      <th>r.time</th>\n",
       "      <th>r.userid</th>\n",
       "      <th>r.username</th>\n",
       "      <th>r.text</th>\n",
       "      <th>cat</th>\n",
       "    </tr>\n",
       "  </thead>\n",
       "  <tbody>\n",
       "    <tr>\n",
       "      <th>0</th>\n",
       "      <td>1999 Ross Andrew Winery Cabernet Sauvignon</td>\n",
       "      <td>2006</td>\n",
       "      <td>Cabernet Sauvignon</td>\n",
       "      <td>1999.0</td>\n",
       "      <td>92.0</td>\n",
       "      <td>1099958400</td>\n",
       "      <td>1</td>\n",
       "      <td>Eric</td>\n",
       "      <td>Wow, this wine continues to deliver. Upon fir...</td>\n",
       "      <td>Very Good</td>\n",
       "    </tr>\n",
       "    <tr>\n",
       "      <th>1</th>\n",
       "      <td>1997 Quilceda Creek Cabernet Sauvignon</td>\n",
       "      <td>379</td>\n",
       "      <td>Cabernet Sauvignon</td>\n",
       "      <td>1997.0</td>\n",
       "      <td>91.0</td>\n",
       "      <td>1117584000</td>\n",
       "      <td>1</td>\n",
       "      <td>Eric</td>\n",
       "      <td>A sweet nose of graham cracker. The palate is...</td>\n",
       "      <td>Very Good</td>\n",
       "    </tr>\n",
       "    <tr>\n",
       "      <th>2</th>\n",
       "      <td>2001 Kiona Cabernet Sauvignon Reserve</td>\n",
       "      <td>4363</td>\n",
       "      <td>Cabernet Sauvignon</td>\n",
       "      <td>2001.0</td>\n",
       "      <td>88.0</td>\n",
       "      <td>1069372800</td>\n",
       "      <td>1</td>\n",
       "      <td>Eric</td>\n",
       "      <td>This has a stunningly Bordeaux-like nose with...</td>\n",
       "      <td>Good</td>\n",
       "    </tr>\n",
       "    <tr>\n",
       "      <th>3</th>\n",
       "      <td>1991 Robert Mondavi Winery Cabernet Sauvignon...</td>\n",
       "      <td>4065</td>\n",
       "      <td>Cabernet Sauvignon</td>\n",
       "      <td>1991.0</td>\n",
       "      <td>97.0</td>\n",
       "      <td>1146268800</td>\n",
       "      <td>1</td>\n",
       "      <td>Eric</td>\n",
       "      <td>Wine of the night. Big notes of cola on the n...</td>\n",
       "      <td>Collectible</td>\n",
       "    </tr>\n",
       "    <tr>\n",
       "      <th>4</th>\n",
       "      <td>1990 Leonetti Cellar Cabernet Sauvignon Washi...</td>\n",
       "      <td>2067</td>\n",
       "      <td>Cabernet Sauvignon</td>\n",
       "      <td>1990.0</td>\n",
       "      <td>91.0</td>\n",
       "      <td>1039305600</td>\n",
       "      <td>1</td>\n",
       "      <td>Eric</td>\n",
       "      <td>Tasted with Patrick, Walt &amp; Chuck. I REALLY l...</td>\n",
       "      <td>Very Good</td>\n",
       "    </tr>\n",
       "    <tr>\n",
       "      <th>5</th>\n",
       "      <td>1976 Robert Mondavi Winery Cabernet Sauvignon...</td>\n",
       "      <td>159797</td>\n",
       "      <td>Cabernet Sauvignon</td>\n",
       "      <td>1976.0</td>\n",
       "      <td>91.0</td>\n",
       "      <td>1146268800</td>\n",
       "      <td>1</td>\n",
       "      <td>Eric</td>\n",
       "      <td>Big, plummy, and minty on the fresh nose. Jus...</td>\n",
       "      <td>Very Good</td>\n",
       "    </tr>\n",
       "    <tr>\n",
       "      <th>6</th>\n",
       "      <td>1999 Andrew Will Cabernet Sauvignon Pepper Br...</td>\n",
       "      <td>32</td>\n",
       "      <td>Cabernet Sauvignon</td>\n",
       "      <td>1999.0</td>\n",
       "      <td>87.0</td>\n",
       "      <td>1124668800</td>\n",
       "      <td>1</td>\n",
       "      <td>Eric</td>\n",
       "      <td>Consumed across two days. On day 1 this was a...</td>\n",
       "      <td>Good</td>\n",
       "    </tr>\n",
       "    <tr>\n",
       "      <th>7</th>\n",
       "      <td>2003 Ross Andrew Winery Cabernet Sauvignon</td>\n",
       "      <td>150807</td>\n",
       "      <td>Cabernet Sauvignon</td>\n",
       "      <td>2003.0</td>\n",
       "      <td>91.0</td>\n",
       "      <td>1179964800</td>\n",
       "      <td>1</td>\n",
       "      <td>Eric</td>\n",
       "      <td>A rather alluring nose with lots of licorice ...</td>\n",
       "      <td>Very Good</td>\n",
       "    </tr>\n",
       "    <tr>\n",
       "      <th>8</th>\n",
       "      <td>1994 Quilceda Creek Cabernet Sauvignon</td>\n",
       "      <td>383</td>\n",
       "      <td>Cabernet Sauvignon</td>\n",
       "      <td>1994.0</td>\n",
       "      <td>96.0</td>\n",
       "      <td>1067731200</td>\n",
       "      <td>1</td>\n",
       "      <td>Eric</td>\n",
       "      <td>Dhiren brought this one, bless his soul. This...</td>\n",
       "      <td>Collectible</td>\n",
       "    </tr>\n",
       "    <tr>\n",
       "      <th>9</th>\n",
       "      <td>1997 Gan Eden Cabernet Sauvignon Kosher Limit...</td>\n",
       "      <td>456</td>\n",
       "      <td>Cabernet Sauvignon</td>\n",
       "      <td>1997.0</td>\n",
       "      <td>85.0</td>\n",
       "      <td>1050451200</td>\n",
       "      <td>1</td>\n",
       "      <td>Eric</td>\n",
       "      <td>This has a somewhat cooked nose, yet on the p...</td>\n",
       "      <td>Good</td>\n",
       "    </tr>\n",
       "    <tr>\n",
       "      <th>10</th>\n",
       "      <td>1996 Shafer Cabernet Sauvignon Hillside Select</td>\n",
       "      <td>5444</td>\n",
       "      <td>Cabernet Sauvignon</td>\n",
       "      <td>1996.0</td>\n",
       "      <td>94.0</td>\n",
       "      <td>1144281600</td>\n",
       "      <td>1</td>\n",
       "      <td>Eric</td>\n",
       "      <td>I had this last month, and it was 98-99 point...</td>\n",
       "      <td>Very Good</td>\n",
       "    </tr>\n",
       "    <tr>\n",
       "      <th>11</th>\n",
       "      <td>1996 Abreu Cabernet Sauvignon Madrona Ranch</td>\n",
       "      <td>2</td>\n",
       "      <td>Cabernet Sauvignon</td>\n",
       "      <td>1996.0</td>\n",
       "      <td>95.0</td>\n",
       "      <td>1099267200</td>\n",
       "      <td>1</td>\n",
       "      <td>Eric</td>\n",
       "      <td>Mmm, this is a serious, SERIOUS Cabernet! I o...</td>\n",
       "      <td>Very Good</td>\n",
       "    </tr>\n",
       "    <tr>\n",
       "      <th>12</th>\n",
       "      <td>1994 Quilceda Creek Cabernet Sauvignon</td>\n",
       "      <td>383</td>\n",
       "      <td>Cabernet Sauvignon</td>\n",
       "      <td>1994.0</td>\n",
       "      <td>95.0</td>\n",
       "      <td>1150502400</td>\n",
       "      <td>1</td>\n",
       "      <td>Eric</td>\n",
       "      <td>This is my go-to Quilceda, and this was a ver...</td>\n",
       "      <td>Very Good</td>\n",
       "    </tr>\n",
       "    <tr>\n",
       "      <th>13</th>\n",
       "      <td>2003 Covenant Cabernet Sauvignon Kosher</td>\n",
       "      <td>85822</td>\n",
       "      <td>Cabernet Sauvignon</td>\n",
       "      <td>2003.0</td>\n",
       "      <td>89.0</td>\n",
       "      <td>1208563200</td>\n",
       "      <td>1</td>\n",
       "      <td>Eric</td>\n",
       "      <td>Richly fruited, powerful, silky Napa Cabernet...</td>\n",
       "      <td>Good</td>\n",
       "    </tr>\n",
       "    <tr>\n",
       "      <th>14</th>\n",
       "      <td>2000 Andrew Will Cabernet Sauvignon Sheridan</td>\n",
       "      <td>18</td>\n",
       "      <td>Cabernet Sauvignon</td>\n",
       "      <td>2000.0</td>\n",
       "      <td>86.0</td>\n",
       "      <td>1116892800</td>\n",
       "      <td>1</td>\n",
       "      <td>Eric</td>\n",
       "      <td>Upon opening this smelled of rotting plums, o...</td>\n",
       "      <td>Good</td>\n",
       "    </tr>\n",
       "    <tr>\n",
       "      <th>15</th>\n",
       "      <td>2001 Ross Andrew Winery Cabernet Sauvignon</td>\n",
       "      <td>3657</td>\n",
       "      <td>Cabernet Sauvignon</td>\n",
       "      <td>2001.0</td>\n",
       "      <td>91.0</td>\n",
       "      <td>1167091200</td>\n",
       "      <td>1</td>\n",
       "      <td>Eric</td>\n",
       "      <td>My wine of the flight. A very distinct nose s...</td>\n",
       "      <td>Very Good</td>\n",
       "    </tr>\n",
       "    <tr>\n",
       "      <th>16</th>\n",
       "      <td>2001 Pride Mountain Vineyards Cabernet Sauvig...</td>\n",
       "      <td>7833</td>\n",
       "      <td>Cabernet Sauvignon</td>\n",
       "      <td>2001.0</td>\n",
       "      <td>98.0</td>\n",
       "      <td>1093564800</td>\n",
       "      <td>1</td>\n",
       "      <td>Eric</td>\n",
       "      <td>Decanted on arrival at 8:15pm, poured at 9:00...</td>\n",
       "      <td>Collectible</td>\n",
       "    </tr>\n",
       "    <tr>\n",
       "      <th>17</th>\n",
       "      <td>1996 Columbia Winery Cabernet Sauvignon David...</td>\n",
       "      <td>102114</td>\n",
       "      <td>Cabernet Sauvignon</td>\n",
       "      <td>1996.0</td>\n",
       "      <td>80.0</td>\n",
       "      <td>1167091200</td>\n",
       "      <td>1</td>\n",
       "      <td>Eric</td>\n",
       "      <td>Much lighter color. Weedy and a bit dilute wi...</td>\n",
       "      <td>Good</td>\n",
       "    </tr>\n",
       "    <tr>\n",
       "      <th>18</th>\n",
       "      <td>2001 Pride Mountain Vineyards Cabernet Sauvignon</td>\n",
       "      <td>3025</td>\n",
       "      <td>Cabernet Sauvignon</td>\n",
       "      <td>2001.0</td>\n",
       "      <td>95.0</td>\n",
       "      <td>1069804800</td>\n",
       "      <td>1</td>\n",
       "      <td>Eric</td>\n",
       "      <td>Holy Toledo, this juice is simply remarkable!...</td>\n",
       "      <td>Very Good</td>\n",
       "    </tr>\n",
       "    <tr>\n",
       "      <th>19</th>\n",
       "      <td>2001 Karl Lawrence Cabernet Sauvignon</td>\n",
       "      <td>11933</td>\n",
       "      <td>Cabernet Sauvignon</td>\n",
       "      <td>2001.0</td>\n",
       "      <td>90.0</td>\n",
       "      <td>1103587200</td>\n",
       "      <td>1</td>\n",
       "      <td>Eric</td>\n",
       "      <td>This was nice enough for a restaurant purchas...</td>\n",
       "      <td>Very Good</td>\n",
       "    </tr>\n",
       "    <tr>\n",
       "      <th>20</th>\n",
       "      <td>1990 Dunn Vineyards Cabernet Sauvignon Howell...</td>\n",
       "      <td>5484</td>\n",
       "      <td>Cabernet Sauvignon</td>\n",
       "      <td>1990.0</td>\n",
       "      <td>95.0</td>\n",
       "      <td>1079049600</td>\n",
       "      <td>1</td>\n",
       "      <td>Eric</td>\n",
       "      <td>Jason snuck this in as a ringer, and it did f...</td>\n",
       "      <td>Very Good</td>\n",
       "    </tr>\n",
       "    <tr>\n",
       "      <th>21</th>\n",
       "      <td>1994 Quilceda Creek Cabernet Sauvignon</td>\n",
       "      <td>383</td>\n",
       "      <td>Cabernet Sauvignon</td>\n",
       "      <td>1994.0</td>\n",
       "      <td>96.0</td>\n",
       "      <td>1170892800</td>\n",
       "      <td>1</td>\n",
       "      <td>Eric</td>\n",
       "      <td>Had at press with Jack Everitt. This was a re...</td>\n",
       "      <td>Collectible</td>\n",
       "    </tr>\n",
       "    <tr>\n",
       "      <th>22</th>\n",
       "      <td>2004 Betz Family Cabernet Sauvignon Pere de F...</td>\n",
       "      <td>206654</td>\n",
       "      <td>Cabernet Sauvignon</td>\n",
       "      <td>2004.0</td>\n",
       "      <td>94.0</td>\n",
       "      <td>1342051200</td>\n",
       "      <td>1</td>\n",
       "      <td>Eric</td>\n",
       "      <td>Mmm, this is drinking beautifully and precoci...</td>\n",
       "      <td>Very Good</td>\n",
       "    </tr>\n",
       "    <tr>\n",
       "      <th>23</th>\n",
       "      <td>1995 Quilceda Creek Cabernet Sauvignon</td>\n",
       "      <td>382</td>\n",
       "      <td>Cabernet Sauvignon</td>\n",
       "      <td>1995.0</td>\n",
       "      <td>94.0</td>\n",
       "      <td>1309737600</td>\n",
       "      <td>1</td>\n",
       "      <td>Eric</td>\n",
       "      <td>Decanted for 30 minutes. This is about the 10...</td>\n",
       "      <td>Very Good</td>\n",
       "    </tr>\n",
       "    <tr>\n",
       "      <th>24</th>\n",
       "      <td>1994 Quilceda Creek Cabernet Sauvignon</td>\n",
       "      <td>383</td>\n",
       "      <td>Cabernet Sauvignon</td>\n",
       "      <td>1994.0</td>\n",
       "      <td>94.0</td>\n",
       "      <td>1156809600</td>\n",
       "      <td>1</td>\n",
       "      <td>Eric</td>\n",
       "      <td>This was a particularly tannic bottle of this...</td>\n",
       "      <td>Very Good</td>\n",
       "    </tr>\n",
       "    <tr>\n",
       "      <th>25</th>\n",
       "      <td>1991 Quilceda Creek Cabernet Sauvignon</td>\n",
       "      <td>805</td>\n",
       "      <td>Cabernet Sauvignon</td>\n",
       "      <td>1991.0</td>\n",
       "      <td>91.0</td>\n",
       "      <td>1132358400</td>\n",
       "      <td>1</td>\n",
       "      <td>Eric</td>\n",
       "      <td>This had the most classic Quilceda nose so fa...</td>\n",
       "      <td>Very Good</td>\n",
       "    </tr>\n",
       "    <tr>\n",
       "      <th>26</th>\n",
       "      <td>2002 Quilceda Creek Cabernet Sauvignon</td>\n",
       "      <td>18539</td>\n",
       "      <td>Cabernet Sauvignon</td>\n",
       "      <td>2002.0</td>\n",
       "      <td>96.0</td>\n",
       "      <td>1116460800</td>\n",
       "      <td>1</td>\n",
       "      <td>Eric</td>\n",
       "      <td>When I first opened this I was a bit surprise...</td>\n",
       "      <td>Collectible</td>\n",
       "    </tr>\n",
       "    <tr>\n",
       "      <th>27</th>\n",
       "      <td>1997 Etude Cabernet Sauvignon</td>\n",
       "      <td>3683</td>\n",
       "      <td>Cabernet Sauvignon</td>\n",
       "      <td>1997.0</td>\n",
       "      <td>93.0</td>\n",
       "      <td>1065744000</td>\n",
       "      <td>1</td>\n",
       "      <td>Eric</td>\n",
       "      <td>The nose shows a hint of volatile acidity wit...</td>\n",
       "      <td>Very Good</td>\n",
       "    </tr>\n",
       "    <tr>\n",
       "      <th>28</th>\n",
       "      <td>1994 Quilceda Creek Cabernet Sauvignon</td>\n",
       "      <td>383</td>\n",
       "      <td>Cabernet Sauvignon</td>\n",
       "      <td>1994.0</td>\n",
       "      <td>96.0</td>\n",
       "      <td>1097193600</td>\n",
       "      <td>1</td>\n",
       "      <td>Eric</td>\n",
       "      <td>This is classic Quilceda with an explosive, b...</td>\n",
       "      <td>Collectible</td>\n",
       "    </tr>\n",
       "    <tr>\n",
       "      <th>29</th>\n",
       "      <td>2005 Chateau Rollat Cabernet Sauvignon Edouar...</td>\n",
       "      <td>443105</td>\n",
       "      <td>Cabernet Sauvignon</td>\n",
       "      <td>2005.0</td>\n",
       "      <td>90.0</td>\n",
       "      <td>1273276800</td>\n",
       "      <td>1</td>\n",
       "      <td>Eric</td>\n",
       "      <td>Very solid. Clean, bright, a bit understated....</td>\n",
       "      <td>Very Good</td>\n",
       "    </tr>\n",
       "    <tr>\n",
       "      <th>...</th>\n",
       "      <td>...</td>\n",
       "      <td>...</td>\n",
       "      <td>...</td>\n",
       "      <td>...</td>\n",
       "      <td>...</td>\n",
       "      <td>...</td>\n",
       "      <td>...</td>\n",
       "      <td>...</td>\n",
       "      <td>...</td>\n",
       "      <td>...</td>\n",
       "    </tr>\n",
       "    <tr>\n",
       "      <th>5793</th>\n",
       "      <td>1997 Plumpjack Cabernet Sauvignon Estate</td>\n",
       "      <td>12725</td>\n",
       "      <td>Cabernet Sauvignon</td>\n",
       "      <td>1997.0</td>\n",
       "      <td>94.0</td>\n",
       "      <td>1146960000</td>\n",
       "      <td>7983</td>\n",
       "      <td>AZ Wine Lover</td>\n",
       "      <td>Nice nose, definately at the end of its windo...</td>\n",
       "      <td>Very Good</td>\n",
       "    </tr>\n",
       "    <tr>\n",
       "      <th>5794</th>\n",
       "      <td>2001 Clos Pegase Cabernet Sauvignon Hommage</td>\n",
       "      <td>219645</td>\n",
       "      <td>Cabernet Sauvignon</td>\n",
       "      <td>2001.0</td>\n",
       "      <td>92.0</td>\n",
       "      <td>1189209600</td>\n",
       "      <td>7983</td>\n",
       "      <td>AZ Wine Lover</td>\n",
       "      <td>Excellent as usual.</td>\n",
       "      <td>Very Good</td>\n",
       "    </tr>\n",
       "    <tr>\n",
       "      <th>5795</th>\n",
       "      <td>2002 Caymus Cabernet Sauvignon Special Selection</td>\n",
       "      <td>60152</td>\n",
       "      <td>Cabernet Sauvignon</td>\n",
       "      <td>2002.0</td>\n",
       "      <td>96.0</td>\n",
       "      <td>1191715200</td>\n",
       "      <td>7983</td>\n",
       "      <td>AZ Wine Lover</td>\n",
       "      <td>Excellent as usual for Caymus! We had this fo...</td>\n",
       "      <td>Collectible</td>\n",
       "    </tr>\n",
       "    <tr>\n",
       "      <th>5796</th>\n",
       "      <td>2003 Ehlers Estate Cabernet Sauvignon &amp;quot;1...</td>\n",
       "      <td>343985</td>\n",
       "      <td>Cabernet Sauvignon</td>\n",
       "      <td>2003.0</td>\n",
       "      <td>93.0</td>\n",
       "      <td>1168128000</td>\n",
       "      <td>7983</td>\n",
       "      <td>AZ Wine Lover</td>\n",
       "      <td>Very Good</td>\n",
       "      <td>Very Good</td>\n",
       "    </tr>\n",
       "    <tr>\n",
       "      <th>5797</th>\n",
       "      <td>2003 Robert Craig Cabernet Sauvignon Affinity</td>\n",
       "      <td>204496</td>\n",
       "      <td>Cabernet Sauvignon</td>\n",
       "      <td>2003.0</td>\n",
       "      <td>92.0</td>\n",
       "      <td>1147910400</td>\n",
       "      <td>7983</td>\n",
       "      <td>AZ Wine Lover</td>\n",
       "      <td>Excellent</td>\n",
       "      <td>Very Good</td>\n",
       "    </tr>\n",
       "    <tr>\n",
       "      <th>5798</th>\n",
       "      <td>2003 Pine Ridge Cabernet Sauvignon Oakville</td>\n",
       "      <td>208511</td>\n",
       "      <td>Cabernet Sauvignon</td>\n",
       "      <td>2003.0</td>\n",
       "      <td>94.0</td>\n",
       "      <td>1174089600</td>\n",
       "      <td>7983</td>\n",
       "      <td>AZ Wine Lover</td>\n",
       "      <td>Excellent after decanted for 4 hours. Quite t...</td>\n",
       "      <td>Very Good</td>\n",
       "    </tr>\n",
       "    <tr>\n",
       "      <th>5799</th>\n",
       "      <td>2002 Hill Family Estates Cabernet Sauvignon N...</td>\n",
       "      <td>237864</td>\n",
       "      <td>Cabernet Sauvignon</td>\n",
       "      <td>2002.0</td>\n",
       "      <td>94.0</td>\n",
       "      <td>1160179200</td>\n",
       "      <td>7983</td>\n",
       "      <td>AZ Wine Lover</td>\n",
       "      <td>Great by itself</td>\n",
       "      <td>Very Good</td>\n",
       "    </tr>\n",
       "    <tr>\n",
       "      <th>5800</th>\n",
       "      <td>1993 Caymus Cabernet Sauvignon</td>\n",
       "      <td>11572</td>\n",
       "      <td>Cabernet Sauvignon</td>\n",
       "      <td>1993.0</td>\n",
       "      <td>90.0</td>\n",
       "      <td>1142985600</td>\n",
       "      <td>7983</td>\n",
       "      <td>AZ Wine Lover</td>\n",
       "      <td>Very good, but not as good as the 1991 bottle...</td>\n",
       "      <td>Very Good</td>\n",
       "    </tr>\n",
       "    <tr>\n",
       "      <th>5801</th>\n",
       "      <td>1991 Beringer Vineyards Cabernet Sauvignon Pr...</td>\n",
       "      <td>6678</td>\n",
       "      <td>Cabernet Sauvignon</td>\n",
       "      <td>1991.0</td>\n",
       "      <td>84.0</td>\n",
       "      <td>1146441600</td>\n",
       "      <td>7983</td>\n",
       "      <td>AZ Wine Lover</td>\n",
       "      <td>Horrible, tasted like grape juice</td>\n",
       "      <td>Good</td>\n",
       "    </tr>\n",
       "    <tr>\n",
       "      <th>5802</th>\n",
       "      <td>1993 Chateau Montelena Cabernet Sauvignon The...</td>\n",
       "      <td>1196</td>\n",
       "      <td>Cabernet Sauvignon</td>\n",
       "      <td>1993.0</td>\n",
       "      <td>80.0</td>\n",
       "      <td>1146441600</td>\n",
       "      <td>7983</td>\n",
       "      <td>AZ Wine Lover</td>\n",
       "      <td>Horrible, way past its prime</td>\n",
       "      <td>Good</td>\n",
       "    </tr>\n",
       "    <tr>\n",
       "      <th>5803</th>\n",
       "      <td>2005 Edgewood Estate Cabernet Sauvignon</td>\n",
       "      <td>541699</td>\n",
       "      <td>Cabernet Sauvignon</td>\n",
       "      <td>2005.0</td>\n",
       "      <td>87.0</td>\n",
       "      <td>1245456000</td>\n",
       "      <td>7983</td>\n",
       "      <td>AZ Wine Lover</td>\n",
       "      <td>Pleasantly surprised by this $18 bottle of wi...</td>\n",
       "      <td>Good</td>\n",
       "    </tr>\n",
       "    <tr>\n",
       "      <th>5804</th>\n",
       "      <td>2003 Betz Family Cabernet Sauvignon Pere de F...</td>\n",
       "      <td>84299</td>\n",
       "      <td>Cabernet Sauvignon</td>\n",
       "      <td>2003.0</td>\n",
       "      <td>90.0</td>\n",
       "      <td>1147392000</td>\n",
       "      <td>7983</td>\n",
       "      <td>AZ Wine Lover</td>\n",
       "      <td>Great nose, decant for no less than 1 hour. N...</td>\n",
       "      <td>Very Good</td>\n",
       "    </tr>\n",
       "    <tr>\n",
       "      <th>5805</th>\n",
       "      <td>2003 Darioush Cabernet Sauvignon Caravan</td>\n",
       "      <td>231105</td>\n",
       "      <td>Cabernet Sauvignon</td>\n",
       "      <td>2003.0</td>\n",
       "      <td>93.0</td>\n",
       "      <td>1168128000</td>\n",
       "      <td>7983</td>\n",
       "      <td>AZ Wine Lover</td>\n",
       "      <td>Great, Very Smooth.</td>\n",
       "      <td>Very Good</td>\n",
       "    </tr>\n",
       "    <tr>\n",
       "      <th>5806</th>\n",
       "      <td>2001 Clos Pegase Cabernet Sauvignon Hommage</td>\n",
       "      <td>219645</td>\n",
       "      <td>Cabernet Sauvignon</td>\n",
       "      <td>2001.0</td>\n",
       "      <td>92.0</td>\n",
       "      <td>1151193600</td>\n",
       "      <td>7983</td>\n",
       "      <td>AZ Wine Lover</td>\n",
       "      <td>Excellent</td>\n",
       "      <td>Very Good</td>\n",
       "    </tr>\n",
       "    <tr>\n",
       "      <th>5807</th>\n",
       "      <td>2004 The Seventy Five Wine Company Cabernet S...</td>\n",
       "      <td>358922</td>\n",
       "      <td>Cabernet Sauvignon</td>\n",
       "      <td>2004.0</td>\n",
       "      <td>94.0</td>\n",
       "      <td>1174780800</td>\n",
       "      <td>7983</td>\n",
       "      <td>AZ Wine Lover</td>\n",
       "      <td>Excellent</td>\n",
       "      <td>Very Good</td>\n",
       "    </tr>\n",
       "    <tr>\n",
       "      <th>5808</th>\n",
       "      <td>2003 Sausal Winery Cabernet Sauvignon</td>\n",
       "      <td>278902</td>\n",
       "      <td>Cabernet Sauvignon</td>\n",
       "      <td>2003.0</td>\n",
       "      <td>86.0</td>\n",
       "      <td>1191715200</td>\n",
       "      <td>7983</td>\n",
       "      <td>AZ Wine Lover</td>\n",
       "      <td>Very Tannic and never smoothed out</td>\n",
       "      <td>Good</td>\n",
       "    </tr>\n",
       "    <tr>\n",
       "      <th>5809</th>\n",
       "      <td>1994 Plumpjack Cabernet Sauvignon Estate</td>\n",
       "      <td>56244</td>\n",
       "      <td>Cabernet Sauvignon</td>\n",
       "      <td>1994.0</td>\n",
       "      <td>85.0</td>\n",
       "      <td>1146441600</td>\n",
       "      <td>7983</td>\n",
       "      <td>AZ Wine Lover</td>\n",
       "      <td>Horrible, tasted like manure again. Get rid o...</td>\n",
       "      <td>Good</td>\n",
       "    </tr>\n",
       "    <tr>\n",
       "      <th>5810</th>\n",
       "      <td>2001 Chimney Rock Cabernet Sauvignon Reserve</td>\n",
       "      <td>72720</td>\n",
       "      <td>Cabernet Sauvignon</td>\n",
       "      <td>2001.0</td>\n",
       "      <td>95.0</td>\n",
       "      <td>1153353600</td>\n",
       "      <td>7983</td>\n",
       "      <td>AZ Wine Lover</td>\n",
       "      <td>EXCELLENT...Enough Said</td>\n",
       "      <td>Very Good</td>\n",
       "    </tr>\n",
       "    <tr>\n",
       "      <th>5811</th>\n",
       "      <td>2004 Del Dotto Cabernet Sauvignon Connoisseur...</td>\n",
       "      <td>257902</td>\n",
       "      <td>Cabernet Sauvignon</td>\n",
       "      <td>2004.0</td>\n",
       "      <td>89.0</td>\n",
       "      <td>1189209600</td>\n",
       "      <td>7983</td>\n",
       "      <td>AZ Wine Lover</td>\n",
       "      <td>Very young, was much better after 2 hours in ...</td>\n",
       "      <td>Good</td>\n",
       "    </tr>\n",
       "    <tr>\n",
       "      <th>5812</th>\n",
       "      <td>2002 Caymus Cabernet Sauvignon Special Selection</td>\n",
       "      <td>60152</td>\n",
       "      <td>Cabernet Sauvignon</td>\n",
       "      <td>2002.0</td>\n",
       "      <td>95.0</td>\n",
       "      <td>1149033600</td>\n",
       "      <td>7983</td>\n",
       "      <td>AZ Wine Lover</td>\n",
       "      <td>Excellent...It's Caymus...need I say more?</td>\n",
       "      <td>Very Good</td>\n",
       "    </tr>\n",
       "    <tr>\n",
       "      <th>5813</th>\n",
       "      <td>2001 Goosecross Cellars Cabernet Sauvignon</td>\n",
       "      <td>166047</td>\n",
       "      <td>Cabernet Sauvignon</td>\n",
       "      <td>2001.0</td>\n",
       "      <td>87.0</td>\n",
       "      <td>1136160000</td>\n",
       "      <td>7984</td>\n",
       "      <td>tonythetaxman</td>\n",
       "      <td>very soft with hints of black cherry</td>\n",
       "      <td>Good</td>\n",
       "    </tr>\n",
       "    <tr>\n",
       "      <th>5814</th>\n",
       "      <td>1999 Spring Mountain Vineyard Cabernet Sauvignon</td>\n",
       "      <td>55186</td>\n",
       "      <td>Cabernet Sauvignon</td>\n",
       "      <td>1999.0</td>\n",
       "      <td>93.0</td>\n",
       "      <td>1127865600</td>\n",
       "      <td>7999</td>\n",
       "      <td>mmyette</td>\n",
       "      <td>Very special wine! Berries, tobacco, leather,...</td>\n",
       "      <td>Very Good</td>\n",
       "    </tr>\n",
       "    <tr>\n",
       "      <th>5815</th>\n",
       "      <td>2001 The Hess Collection Cabernet Sauvignon T...</td>\n",
       "      <td>109402</td>\n",
       "      <td>Cabernet Sauvignon</td>\n",
       "      <td>2001.0</td>\n",
       "      <td>91.0</td>\n",
       "      <td>1167955200</td>\n",
       "      <td>7999</td>\n",
       "      <td>mmyette</td>\n",
       "      <td>May be going through a green phase right now....</td>\n",
       "      <td>Very Good</td>\n",
       "    </tr>\n",
       "    <tr>\n",
       "      <th>5816</th>\n",
       "      <td>2005 Darioush Cabernet Sauvignon Estate</td>\n",
       "      <td>516160</td>\n",
       "      <td>Cabernet Sauvignon</td>\n",
       "      <td>2005.0</td>\n",
       "      <td>91.0</td>\n",
       "      <td>1219968000</td>\n",
       "      <td>7999</td>\n",
       "      <td>mmyette</td>\n",
       "      <td>Very nice, velvety soft, and showing ripe fru...</td>\n",
       "      <td>Very Good</td>\n",
       "    </tr>\n",
       "    <tr>\n",
       "      <th>5817</th>\n",
       "      <td>2001 The Hess Collection Cabernet Sauvignon H...</td>\n",
       "      <td>10935</td>\n",
       "      <td>Cabernet Sauvignon</td>\n",
       "      <td>2001.0</td>\n",
       "      <td>87.0</td>\n",
       "      <td>1139184000</td>\n",
       "      <td>7999</td>\n",
       "      <td>mmyette</td>\n",
       "      <td>Better than I remember, forward dark fruit, c...</td>\n",
       "      <td>Good</td>\n",
       "    </tr>\n",
       "    <tr>\n",
       "      <th>5818</th>\n",
       "      <td>1995 Kenwood Cabernet Sauvignon Jack London V...</td>\n",
       "      <td>59749</td>\n",
       "      <td>Cabernet Sauvignon</td>\n",
       "      <td>1995.0</td>\n",
       "      <td>87.0</td>\n",
       "      <td>1162339200</td>\n",
       "      <td>7999</td>\n",
       "      <td>mmyette</td>\n",
       "      <td>Slightly better than the 96, this was meduum ...</td>\n",
       "      <td>Good</td>\n",
       "    </tr>\n",
       "    <tr>\n",
       "      <th>5819</th>\n",
       "      <td>2003 Staglin Family Cabernet Sauvignon Estate</td>\n",
       "      <td>221244</td>\n",
       "      <td>Cabernet Sauvignon</td>\n",
       "      <td>2003.0</td>\n",
       "      <td>96.0</td>\n",
       "      <td>1167955200</td>\n",
       "      <td>7999</td>\n",
       "      <td>mmyette</td>\n",
       "      <td>See previous notes.</td>\n",
       "      <td>Collectible</td>\n",
       "    </tr>\n",
       "    <tr>\n",
       "      <th>5820</th>\n",
       "      <td>1999 Grgich Hills Cabernet Sauvignon</td>\n",
       "      <td>12801</td>\n",
       "      <td>Cabernet Sauvignon</td>\n",
       "      <td>1999.0</td>\n",
       "      <td>91.0</td>\n",
       "      <td>1169942400</td>\n",
       "      <td>7999</td>\n",
       "      <td>mmyette</td>\n",
       "      <td>Good, peaking. See previous notes.</td>\n",
       "      <td>Very Good</td>\n",
       "    </tr>\n",
       "    <tr>\n",
       "      <th>5821</th>\n",
       "      <td>2004 Staglin Family Cabernet Sauvignon Salus</td>\n",
       "      <td>275226</td>\n",
       "      <td>Cabernet Sauvignon</td>\n",
       "      <td>2004.0</td>\n",
       "      <td>93.0</td>\n",
       "      <td>1213315200</td>\n",
       "      <td>7999</td>\n",
       "      <td>mmyette</td>\n",
       "      <td>Continues to please, light and still yet full...</td>\n",
       "      <td>Very Good</td>\n",
       "    </tr>\n",
       "    <tr>\n",
       "      <th>5822</th>\n",
       "      <td>2004 Robert Mondavi Winery Cabernet Sauvignon...</td>\n",
       "      <td>374068</td>\n",
       "      <td>Cabernet Sauvignon</td>\n",
       "      <td>2004.0</td>\n",
       "      <td>95.0</td>\n",
       "      <td>1211587200</td>\n",
       "      <td>7999</td>\n",
       "      <td>mmyette</td>\n",
       "      <td>This was fantastic and smooth. The nose was o...</td>\n",
       "      <td>Very Good</td>\n",
       "    </tr>\n",
       "  </tbody>\n",
       "</table>\n",
       "<p>5823 rows × 10 columns</p>\n",
       "</div>"
      ],
      "text/plain": [
       "                                                 w.name    w.id  \\\n",
       "0            1999 Ross Andrew Winery Cabernet Sauvignon    2006   \n",
       "1                1997 Quilceda Creek Cabernet Sauvignon     379   \n",
       "2                 2001 Kiona Cabernet Sauvignon Reserve    4363   \n",
       "3      1991 Robert Mondavi Winery Cabernet Sauvignon...    4065   \n",
       "4      1990 Leonetti Cellar Cabernet Sauvignon Washi...    2067   \n",
       "5      1976 Robert Mondavi Winery Cabernet Sauvignon...  159797   \n",
       "6      1999 Andrew Will Cabernet Sauvignon Pepper Br...      32   \n",
       "7            2003 Ross Andrew Winery Cabernet Sauvignon  150807   \n",
       "8                1994 Quilceda Creek Cabernet Sauvignon     383   \n",
       "9      1997 Gan Eden Cabernet Sauvignon Kosher Limit...     456   \n",
       "10       1996 Shafer Cabernet Sauvignon Hillside Select    5444   \n",
       "11          1996 Abreu Cabernet Sauvignon Madrona Ranch       2   \n",
       "12               1994 Quilceda Creek Cabernet Sauvignon     383   \n",
       "13              2003 Covenant Cabernet Sauvignon Kosher   85822   \n",
       "14         2000 Andrew Will Cabernet Sauvignon Sheridan      18   \n",
       "15           2001 Ross Andrew Winery Cabernet Sauvignon    3657   \n",
       "16     2001 Pride Mountain Vineyards Cabernet Sauvig...    7833   \n",
       "17     1996 Columbia Winery Cabernet Sauvignon David...  102114   \n",
       "18     2001 Pride Mountain Vineyards Cabernet Sauvignon    3025   \n",
       "19                2001 Karl Lawrence Cabernet Sauvignon   11933   \n",
       "20     1990 Dunn Vineyards Cabernet Sauvignon Howell...    5484   \n",
       "21               1994 Quilceda Creek Cabernet Sauvignon     383   \n",
       "22     2004 Betz Family Cabernet Sauvignon Pere de F...  206654   \n",
       "23               1995 Quilceda Creek Cabernet Sauvignon     382   \n",
       "24               1994 Quilceda Creek Cabernet Sauvignon     383   \n",
       "25               1991 Quilceda Creek Cabernet Sauvignon     805   \n",
       "26               2002 Quilceda Creek Cabernet Sauvignon   18539   \n",
       "27                        1997 Etude Cabernet Sauvignon    3683   \n",
       "28               1994 Quilceda Creek Cabernet Sauvignon     383   \n",
       "29     2005 Chateau Rollat Cabernet Sauvignon Edouar...  443105   \n",
       "...                                                 ...     ...   \n",
       "5793           1997 Plumpjack Cabernet Sauvignon Estate   12725   \n",
       "5794        2001 Clos Pegase Cabernet Sauvignon Hommage  219645   \n",
       "5795   2002 Caymus Cabernet Sauvignon Special Selection   60152   \n",
       "5796   2003 Ehlers Estate Cabernet Sauvignon &quot;1...  343985   \n",
       "5797      2003 Robert Craig Cabernet Sauvignon Affinity  204496   \n",
       "5798        2003 Pine Ridge Cabernet Sauvignon Oakville  208511   \n",
       "5799   2002 Hill Family Estates Cabernet Sauvignon N...  237864   \n",
       "5800                     1993 Caymus Cabernet Sauvignon   11572   \n",
       "5801   1991 Beringer Vineyards Cabernet Sauvignon Pr...    6678   \n",
       "5802   1993 Chateau Montelena Cabernet Sauvignon The...    1196   \n",
       "5803            2005 Edgewood Estate Cabernet Sauvignon  541699   \n",
       "5804   2003 Betz Family Cabernet Sauvignon Pere de F...   84299   \n",
       "5805           2003 Darioush Cabernet Sauvignon Caravan  231105   \n",
       "5806        2001 Clos Pegase Cabernet Sauvignon Hommage  219645   \n",
       "5807   2004 The Seventy Five Wine Company Cabernet S...  358922   \n",
       "5808              2003 Sausal Winery Cabernet Sauvignon  278902   \n",
       "5809           1994 Plumpjack Cabernet Sauvignon Estate   56244   \n",
       "5810       2001 Chimney Rock Cabernet Sauvignon Reserve   72720   \n",
       "5811   2004 Del Dotto Cabernet Sauvignon Connoisseur...  257902   \n",
       "5812   2002 Caymus Cabernet Sauvignon Special Selection   60152   \n",
       "5813         2001 Goosecross Cellars Cabernet Sauvignon  166047   \n",
       "5814   1999 Spring Mountain Vineyard Cabernet Sauvignon   55186   \n",
       "5815   2001 The Hess Collection Cabernet Sauvignon T...  109402   \n",
       "5816            2005 Darioush Cabernet Sauvignon Estate  516160   \n",
       "5817   2001 The Hess Collection Cabernet Sauvignon H...   10935   \n",
       "5818   1995 Kenwood Cabernet Sauvignon Jack London V...   59749   \n",
       "5819      2003 Staglin Family Cabernet Sauvignon Estate  221244   \n",
       "5820               1999 Grgich Hills Cabernet Sauvignon   12801   \n",
       "5821       2004 Staglin Family Cabernet Sauvignon Salus  275226   \n",
       "5822   2004 Robert Mondavi Winery Cabernet Sauvignon...  374068   \n",
       "\n",
       "                   w.type  w.year  r.rating      r.time  r.userid  \\\n",
       "0      Cabernet Sauvignon  1999.0      92.0  1099958400         1   \n",
       "1      Cabernet Sauvignon  1997.0      91.0  1117584000         1   \n",
       "2      Cabernet Sauvignon  2001.0      88.0  1069372800         1   \n",
       "3      Cabernet Sauvignon  1991.0      97.0  1146268800         1   \n",
       "4      Cabernet Sauvignon  1990.0      91.0  1039305600         1   \n",
       "5      Cabernet Sauvignon  1976.0      91.0  1146268800         1   \n",
       "6      Cabernet Sauvignon  1999.0      87.0  1124668800         1   \n",
       "7      Cabernet Sauvignon  2003.0      91.0  1179964800         1   \n",
       "8      Cabernet Sauvignon  1994.0      96.0  1067731200         1   \n",
       "9      Cabernet Sauvignon  1997.0      85.0  1050451200         1   \n",
       "10     Cabernet Sauvignon  1996.0      94.0  1144281600         1   \n",
       "11     Cabernet Sauvignon  1996.0      95.0  1099267200         1   \n",
       "12     Cabernet Sauvignon  1994.0      95.0  1150502400         1   \n",
       "13     Cabernet Sauvignon  2003.0      89.0  1208563200         1   \n",
       "14     Cabernet Sauvignon  2000.0      86.0  1116892800         1   \n",
       "15     Cabernet Sauvignon  2001.0      91.0  1167091200         1   \n",
       "16     Cabernet Sauvignon  2001.0      98.0  1093564800         1   \n",
       "17     Cabernet Sauvignon  1996.0      80.0  1167091200         1   \n",
       "18     Cabernet Sauvignon  2001.0      95.0  1069804800         1   \n",
       "19     Cabernet Sauvignon  2001.0      90.0  1103587200         1   \n",
       "20     Cabernet Sauvignon  1990.0      95.0  1079049600         1   \n",
       "21     Cabernet Sauvignon  1994.0      96.0  1170892800         1   \n",
       "22     Cabernet Sauvignon  2004.0      94.0  1342051200         1   \n",
       "23     Cabernet Sauvignon  1995.0      94.0  1309737600         1   \n",
       "24     Cabernet Sauvignon  1994.0      94.0  1156809600         1   \n",
       "25     Cabernet Sauvignon  1991.0      91.0  1132358400         1   \n",
       "26     Cabernet Sauvignon  2002.0      96.0  1116460800         1   \n",
       "27     Cabernet Sauvignon  1997.0      93.0  1065744000         1   \n",
       "28     Cabernet Sauvignon  1994.0      96.0  1097193600         1   \n",
       "29     Cabernet Sauvignon  2005.0      90.0  1273276800         1   \n",
       "...                   ...     ...       ...         ...       ...   \n",
       "5793   Cabernet Sauvignon  1997.0      94.0  1146960000      7983   \n",
       "5794   Cabernet Sauvignon  2001.0      92.0  1189209600      7983   \n",
       "5795   Cabernet Sauvignon  2002.0      96.0  1191715200      7983   \n",
       "5796   Cabernet Sauvignon  2003.0      93.0  1168128000      7983   \n",
       "5797   Cabernet Sauvignon  2003.0      92.0  1147910400      7983   \n",
       "5798   Cabernet Sauvignon  2003.0      94.0  1174089600      7983   \n",
       "5799   Cabernet Sauvignon  2002.0      94.0  1160179200      7983   \n",
       "5800   Cabernet Sauvignon  1993.0      90.0  1142985600      7983   \n",
       "5801   Cabernet Sauvignon  1991.0      84.0  1146441600      7983   \n",
       "5802   Cabernet Sauvignon  1993.0      80.0  1146441600      7983   \n",
       "5803   Cabernet Sauvignon  2005.0      87.0  1245456000      7983   \n",
       "5804   Cabernet Sauvignon  2003.0      90.0  1147392000      7983   \n",
       "5805   Cabernet Sauvignon  2003.0      93.0  1168128000      7983   \n",
       "5806   Cabernet Sauvignon  2001.0      92.0  1151193600      7983   \n",
       "5807   Cabernet Sauvignon  2004.0      94.0  1174780800      7983   \n",
       "5808   Cabernet Sauvignon  2003.0      86.0  1191715200      7983   \n",
       "5809   Cabernet Sauvignon  1994.0      85.0  1146441600      7983   \n",
       "5810   Cabernet Sauvignon  2001.0      95.0  1153353600      7983   \n",
       "5811   Cabernet Sauvignon  2004.0      89.0  1189209600      7983   \n",
       "5812   Cabernet Sauvignon  2002.0      95.0  1149033600      7983   \n",
       "5813   Cabernet Sauvignon  2001.0      87.0  1136160000      7984   \n",
       "5814   Cabernet Sauvignon  1999.0      93.0  1127865600      7999   \n",
       "5815   Cabernet Sauvignon  2001.0      91.0  1167955200      7999   \n",
       "5816   Cabernet Sauvignon  2005.0      91.0  1219968000      7999   \n",
       "5817   Cabernet Sauvignon  2001.0      87.0  1139184000      7999   \n",
       "5818   Cabernet Sauvignon  1995.0      87.0  1162339200      7999   \n",
       "5819   Cabernet Sauvignon  2003.0      96.0  1167955200      7999   \n",
       "5820   Cabernet Sauvignon  1999.0      91.0  1169942400      7999   \n",
       "5821   Cabernet Sauvignon  2004.0      93.0  1213315200      7999   \n",
       "5822   Cabernet Sauvignon  2004.0      95.0  1211587200      7999   \n",
       "\n",
       "          r.username                                             r.text  \\\n",
       "0               Eric   Wow, this wine continues to deliver. Upon fir...   \n",
       "1               Eric   A sweet nose of graham cracker. The palate is...   \n",
       "2               Eric   This has a stunningly Bordeaux-like nose with...   \n",
       "3               Eric   Wine of the night. Big notes of cola on the n...   \n",
       "4               Eric   Tasted with Patrick, Walt & Chuck. I REALLY l...   \n",
       "5               Eric   Big, plummy, and minty on the fresh nose. Jus...   \n",
       "6               Eric   Consumed across two days. On day 1 this was a...   \n",
       "7               Eric   A rather alluring nose with lots of licorice ...   \n",
       "8               Eric   Dhiren brought this one, bless his soul. This...   \n",
       "9               Eric   This has a somewhat cooked nose, yet on the p...   \n",
       "10              Eric   I had this last month, and it was 98-99 point...   \n",
       "11              Eric   Mmm, this is a serious, SERIOUS Cabernet! I o...   \n",
       "12              Eric   This is my go-to Quilceda, and this was a ver...   \n",
       "13              Eric   Richly fruited, powerful, silky Napa Cabernet...   \n",
       "14              Eric   Upon opening this smelled of rotting plums, o...   \n",
       "15              Eric   My wine of the flight. A very distinct nose s...   \n",
       "16              Eric   Decanted on arrival at 8:15pm, poured at 9:00...   \n",
       "17              Eric   Much lighter color. Weedy and a bit dilute wi...   \n",
       "18              Eric   Holy Toledo, this juice is simply remarkable!...   \n",
       "19              Eric   This was nice enough for a restaurant purchas...   \n",
       "20              Eric   Jason snuck this in as a ringer, and it did f...   \n",
       "21              Eric   Had at press with Jack Everitt. This was a re...   \n",
       "22              Eric   Mmm, this is drinking beautifully and precoci...   \n",
       "23              Eric   Decanted for 30 minutes. This is about the 10...   \n",
       "24              Eric   This was a particularly tannic bottle of this...   \n",
       "25              Eric   This had the most classic Quilceda nose so fa...   \n",
       "26              Eric   When I first opened this I was a bit surprise...   \n",
       "27              Eric   The nose shows a hint of volatile acidity wit...   \n",
       "28              Eric   This is classic Quilceda with an explosive, b...   \n",
       "29              Eric   Very solid. Clean, bright, a bit understated....   \n",
       "...              ...                                                ...   \n",
       "5793   AZ Wine Lover   Nice nose, definately at the end of its windo...   \n",
       "5794   AZ Wine Lover                                Excellent as usual.   \n",
       "5795   AZ Wine Lover   Excellent as usual for Caymus! We had this fo...   \n",
       "5796   AZ Wine Lover                                          Very Good   \n",
       "5797   AZ Wine Lover                                          Excellent   \n",
       "5798   AZ Wine Lover   Excellent after decanted for 4 hours. Quite t...   \n",
       "5799   AZ Wine Lover                                    Great by itself   \n",
       "5800   AZ Wine Lover   Very good, but not as good as the 1991 bottle...   \n",
       "5801   AZ Wine Lover                  Horrible, tasted like grape juice   \n",
       "5802   AZ Wine Lover                       Horrible, way past its prime   \n",
       "5803   AZ Wine Lover   Pleasantly surprised by this $18 bottle of wi...   \n",
       "5804   AZ Wine Lover   Great nose, decant for no less than 1 hour. N...   \n",
       "5805   AZ Wine Lover                                Great, Very Smooth.   \n",
       "5806   AZ Wine Lover                                          Excellent   \n",
       "5807   AZ Wine Lover                                          Excellent   \n",
       "5808   AZ Wine Lover                 Very Tannic and never smoothed out   \n",
       "5809   AZ Wine Lover   Horrible, tasted like manure again. Get rid o...   \n",
       "5810   AZ Wine Lover                            EXCELLENT...Enough Said   \n",
       "5811   AZ Wine Lover   Very young, was much better after 2 hours in ...   \n",
       "5812   AZ Wine Lover         Excellent...It's Caymus...need I say more?   \n",
       "5813   tonythetaxman               very soft with hints of black cherry   \n",
       "5814         mmyette   Very special wine! Berries, tobacco, leather,...   \n",
       "5815         mmyette   May be going through a green phase right now....   \n",
       "5816         mmyette   Very nice, velvety soft, and showing ripe fru...   \n",
       "5817         mmyette   Better than I remember, forward dark fruit, c...   \n",
       "5818         mmyette   Slightly better than the 96, this was meduum ...   \n",
       "5819         mmyette                                See previous notes.   \n",
       "5820         mmyette                 Good, peaking. See previous notes.   \n",
       "5821         mmyette   Continues to please, light and still yet full...   \n",
       "5822         mmyette   This was fantastic and smooth. The nose was o...   \n",
       "\n",
       "              cat  \n",
       "0       Very Good  \n",
       "1       Very Good  \n",
       "2            Good  \n",
       "3     Collectible  \n",
       "4       Very Good  \n",
       "5       Very Good  \n",
       "6            Good  \n",
       "7       Very Good  \n",
       "8     Collectible  \n",
       "9            Good  \n",
       "10      Very Good  \n",
       "11      Very Good  \n",
       "12      Very Good  \n",
       "13           Good  \n",
       "14           Good  \n",
       "15      Very Good  \n",
       "16    Collectible  \n",
       "17           Good  \n",
       "18      Very Good  \n",
       "19      Very Good  \n",
       "20      Very Good  \n",
       "21    Collectible  \n",
       "22      Very Good  \n",
       "23      Very Good  \n",
       "24      Very Good  \n",
       "25      Very Good  \n",
       "26    Collectible  \n",
       "27      Very Good  \n",
       "28    Collectible  \n",
       "29      Very Good  \n",
       "...           ...  \n",
       "5793    Very Good  \n",
       "5794    Very Good  \n",
       "5795  Collectible  \n",
       "5796    Very Good  \n",
       "5797    Very Good  \n",
       "5798    Very Good  \n",
       "5799    Very Good  \n",
       "5800    Very Good  \n",
       "5801         Good  \n",
       "5802         Good  \n",
       "5803         Good  \n",
       "5804    Very Good  \n",
       "5805    Very Good  \n",
       "5806    Very Good  \n",
       "5807    Very Good  \n",
       "5808         Good  \n",
       "5809         Good  \n",
       "5810    Very Good  \n",
       "5811         Good  \n",
       "5812    Very Good  \n",
       "5813         Good  \n",
       "5814    Very Good  \n",
       "5815    Very Good  \n",
       "5816    Very Good  \n",
       "5817         Good  \n",
       "5818         Good  \n",
       "5819  Collectible  \n",
       "5820    Very Good  \n",
       "5821    Very Good  \n",
       "5822    Very Good  \n",
       "\n",
       "[5823 rows x 10 columns]"
      ]
     },
     "execution_count": 52,
     "metadata": {},
     "output_type": "execute_result"
    }
   ],
   "source": [
    "df_cabs.reset_index(drop=True)"
   ]
  },
  {
   "cell_type": "code",
   "execution_count": 53,
   "metadata": {
    "collapsed": false
   },
   "outputs": [
    {
     "data": {
      "text/html": [
       "<div>\n",
       "<table border=\"1\" class=\"dataframe\">\n",
       "  <thead>\n",
       "    <tr style=\"text-align: right;\">\n",
       "      <th></th>\n",
       "      <th>w.name</th>\n",
       "      <th>w.id</th>\n",
       "      <th>w.type</th>\n",
       "      <th>w.year</th>\n",
       "      <th>r.rating</th>\n",
       "      <th>r.time</th>\n",
       "      <th>r.userid</th>\n",
       "      <th>r.username</th>\n",
       "      <th>r.text</th>\n",
       "      <th>cat</th>\n",
       "    </tr>\n",
       "  </thead>\n",
       "  <tbody>\n",
       "    <tr>\n",
       "      <th>1231</th>\n",
       "      <td>1999 Ross Andrew Winery Cabernet Sauvignon</td>\n",
       "      <td>2006</td>\n",
       "      <td>Cabernet Sauvignon</td>\n",
       "      <td>1999.0</td>\n",
       "      <td>92.0</td>\n",
       "      <td>1099958400</td>\n",
       "      <td>1</td>\n",
       "      <td>Eric</td>\n",
       "      <td>Wow, this wine continues to deliver. Upon fir...</td>\n",
       "      <td>Very Good</td>\n",
       "    </tr>\n",
       "    <tr>\n",
       "      <th>1234</th>\n",
       "      <td>1997 Quilceda Creek Cabernet Sauvignon</td>\n",
       "      <td>379</td>\n",
       "      <td>Cabernet Sauvignon</td>\n",
       "      <td>1997.0</td>\n",
       "      <td>91.0</td>\n",
       "      <td>1117584000</td>\n",
       "      <td>1</td>\n",
       "      <td>Eric</td>\n",
       "      <td>A sweet nose of graham cracker. The palate is...</td>\n",
       "      <td>Very Good</td>\n",
       "    </tr>\n",
       "    <tr>\n",
       "      <th>1237</th>\n",
       "      <td>2001 Kiona Cabernet Sauvignon Reserve</td>\n",
       "      <td>4363</td>\n",
       "      <td>Cabernet Sauvignon</td>\n",
       "      <td>2001.0</td>\n",
       "      <td>88.0</td>\n",
       "      <td>1069372800</td>\n",
       "      <td>1</td>\n",
       "      <td>Eric</td>\n",
       "      <td>This has a stunningly Bordeaux-like nose with...</td>\n",
       "      <td>Good</td>\n",
       "    </tr>\n",
       "    <tr>\n",
       "      <th>1247</th>\n",
       "      <td>1991 Robert Mondavi Winery Cabernet Sauvignon...</td>\n",
       "      <td>4065</td>\n",
       "      <td>Cabernet Sauvignon</td>\n",
       "      <td>1991.0</td>\n",
       "      <td>97.0</td>\n",
       "      <td>1146268800</td>\n",
       "      <td>1</td>\n",
       "      <td>Eric</td>\n",
       "      <td>Wine of the night. Big notes of cola on the n...</td>\n",
       "      <td>Collectible</td>\n",
       "    </tr>\n",
       "    <tr>\n",
       "      <th>1253</th>\n",
       "      <td>1990 Leonetti Cellar Cabernet Sauvignon Washi...</td>\n",
       "      <td>2067</td>\n",
       "      <td>Cabernet Sauvignon</td>\n",
       "      <td>1990.0</td>\n",
       "      <td>91.0</td>\n",
       "      <td>1039305600</td>\n",
       "      <td>1</td>\n",
       "      <td>Eric</td>\n",
       "      <td>Tasted with Patrick, Walt &amp; Chuck. I REALLY l...</td>\n",
       "      <td>Very Good</td>\n",
       "    </tr>\n",
       "  </tbody>\n",
       "</table>\n",
       "</div>"
      ],
      "text/plain": [
       "                                                 w.name  w.id  \\\n",
       "1231         1999 Ross Andrew Winery Cabernet Sauvignon  2006   \n",
       "1234             1997 Quilceda Creek Cabernet Sauvignon   379   \n",
       "1237              2001 Kiona Cabernet Sauvignon Reserve  4363   \n",
       "1247   1991 Robert Mondavi Winery Cabernet Sauvignon...  4065   \n",
       "1253   1990 Leonetti Cellar Cabernet Sauvignon Washi...  2067   \n",
       "\n",
       "                   w.type  w.year  r.rating      r.time  r.userid r.username  \\\n",
       "1231   Cabernet Sauvignon  1999.0      92.0  1099958400         1       Eric   \n",
       "1234   Cabernet Sauvignon  1997.0      91.0  1117584000         1       Eric   \n",
       "1237   Cabernet Sauvignon  2001.0      88.0  1069372800         1       Eric   \n",
       "1247   Cabernet Sauvignon  1991.0      97.0  1146268800         1       Eric   \n",
       "1253   Cabernet Sauvignon  1990.0      91.0  1039305600         1       Eric   \n",
       "\n",
       "                                                 r.text          cat  \n",
       "1231   Wow, this wine continues to deliver. Upon fir...    Very Good  \n",
       "1234   A sweet nose of graham cracker. The palate is...    Very Good  \n",
       "1237   This has a stunningly Bordeaux-like nose with...         Good  \n",
       "1247   Wine of the night. Big notes of cola on the n...  Collectible  \n",
       "1253   Tasted with Patrick, Walt & Chuck. I REALLY l...    Very Good  "
      ]
     },
     "execution_count": 53,
     "metadata": {},
     "output_type": "execute_result"
    }
   ],
   "source": [
    "df_cabs.head()"
   ]
  },
  {
   "cell_type": "code",
   "execution_count": 54,
   "metadata": {
    "collapsed": false
   },
   "outputs": [],
   "source": [
    "X = df_cabs[['r.text']].fillna(\"\")"
   ]
  },
  {
   "cell_type": "code",
   "execution_count": 55,
   "metadata": {
    "collapsed": true
   },
   "outputs": [],
   "source": [
    "y = df_cabs['cat']"
   ]
  },
  {
   "cell_type": "code",
   "execution_count": 56,
   "metadata": {
    "collapsed": false
   },
   "outputs": [],
   "source": [
    "X_train, X_test, y_train, y_test = train_test_split(X, y, test_size=0.1, random_state=5)"
   ]
  },
  {
   "cell_type": "code",
   "execution_count": 57,
   "metadata": {
    "collapsed": false
   },
   "outputs": [],
   "source": [
    "X_train = X_train.reset_index(drop=True)\n",
    "X_test = X_test.reset_index(drop=True)\n",
    "y_train = y_train.reset_index(drop=True)\n",
    "y_test = y_test.reset_index(drop=True)"
   ]
  },
  {
   "cell_type": "code",
   "execution_count": 58,
   "metadata": {
    "collapsed": false
   },
   "outputs": [
    {
     "data": {
      "text/plain": [
       "pandas.core.frame.DataFrame"
      ]
     },
     "execution_count": 58,
     "metadata": {},
     "output_type": "execute_result"
    }
   ],
   "source": [
    "type(X_train)"
   ]
  },
  {
   "cell_type": "code",
   "execution_count": 59,
   "metadata": {
    "collapsed": false
   },
   "outputs": [
    {
     "data": {
      "text/plain": [
       "pandas.core.frame.DataFrame"
      ]
     },
     "execution_count": 59,
     "metadata": {},
     "output_type": "execute_result"
    }
   ],
   "source": [
    "type(X_test)"
   ]
  },
  {
   "cell_type": "code",
   "execution_count": 60,
   "metadata": {
    "collapsed": false
   },
   "outputs": [
    {
     "data": {
      "text/plain": [
       "pandas.core.series.Series"
      ]
     },
     "execution_count": 60,
     "metadata": {},
     "output_type": "execute_result"
    }
   ],
   "source": [
    "type(y_train)"
   ]
  },
  {
   "cell_type": "code",
   "execution_count": 61,
   "metadata": {
    "collapsed": false
   },
   "outputs": [
    {
     "data": {
      "text/plain": [
       "pandas.core.series.Series"
      ]
     },
     "execution_count": 61,
     "metadata": {},
     "output_type": "execute_result"
    }
   ],
   "source": [
    "type(y_test)"
   ]
  },
  {
   "cell_type": "code",
   "execution_count": 62,
   "metadata": {
    "collapsed": false
   },
   "outputs": [
    {
     "data": {
      "text/plain": [
       "0    Very Good\n",
       "1    Very Good\n",
       "2    Very Good\n",
       "3         Good\n",
       "4         Good\n",
       "Name: cat, dtype: object"
      ]
     },
     "execution_count": 62,
     "metadata": {},
     "output_type": "execute_result"
    }
   ],
   "source": [
    "y_test.head()"
   ]
  },
  {
   "cell_type": "markdown",
   "metadata": {},
   "source": [
    "### Next steps\n",
    "Apply NLP model to see if we can predict the rating based on the description"
   ]
  },
  {
   "cell_type": "markdown",
   "metadata": {},
   "source": [
    "# CountVectorizer"
   ]
  },
  {
   "cell_type": "code",
   "execution_count": 63,
   "metadata": {
    "collapsed": false
   },
   "outputs": [],
   "source": [
    "from sklearn.feature_extraction.text import CountVectorizer\n",
    "\n",
    "vectorizer = CountVectorizer(max_features = 2000, \n",
    "                             ngram_range=(1, 4), \n",
    "                             stop_words='english',\n",
    "                             binary=True,\n",
    "                             decode_error=\"ignore\")\n",
    "\n",
    "# Use `fit` to learn the vocabulary of the titles\n",
    "vectorizer.fit(X_train['r.text'])\n",
    "\n",
    "# Use `tranform` to generate the sample X_train's word matrix - one column per feature (word or n-grams)\n",
    "X = vectorizer.transform(X_train['r.text']).toarray()\n"
   ]
  },
  {
   "cell_type": "code",
   "execution_count": 66,
   "metadata": {
    "collapsed": false
   },
   "outputs": [
    {
     "data": {
      "text/plain": [
       "(5240L, 2000L)"
      ]
     },
     "execution_count": 66,
     "metadata": {},
     "output_type": "execute_result"
    }
   ],
   "source": [
    "X1 = X\n",
    "X1.shape"
   ]
  },
  {
   "cell_type": "code",
   "execution_count": 67,
   "metadata": {
    "collapsed": false
   },
   "outputs": [
    {
     "data": {
      "text/plain": [
       "pandas.core.series.Series"
      ]
     },
     "execution_count": 67,
     "metadata": {},
     "output_type": "execute_result"
    }
   ],
   "source": [
    "type(y_train)"
   ]
  },
  {
   "cell_type": "markdown",
   "metadata": {},
   "source": [
    "# RandomForest"
   ]
  },
  {
   "cell_type": "code",
   "execution_count": 68,
   "metadata": {
    "collapsed": false
   },
   "outputs": [],
   "source": [
    "from sklearn.ensemble import RandomForestClassifier\n",
    "model = RandomForestClassifier(n_estimators = 1000, n_jobs=2)"
   ]
  },
  {
   "cell_type": "code",
   "execution_count": 69,
   "metadata": {
    "collapsed": false
   },
   "outputs": [
    {
     "name": "stdout",
     "output_type": "stream",
     "text": [
      "CV Accuracy [ 0.70611778  0.72394044  0.73868195], Average Accuracy 0.722913388431\n"
     ]
    }
   ],
   "source": [
    "from sklearn.model_selection import cross_val_score\n",
    "\n",
    "scores = cross_val_score(model, X1, y_train, scoring='accuracy')\n",
    "\n",
    "print('CV Accuracy {}, Average Accuracy {}'.format(scores, scores.mean()))"
   ]
  },
  {
   "cell_type": "markdown",
   "metadata": {},
   "source": [
    "# OneVsRest"
   ]
  },
  {
   "cell_type": "code",
   "execution_count": 70,
   "metadata": {
    "collapsed": true
   },
   "outputs": [],
   "source": [
    "from sklearn.multiclass import OneVsRestClassifier\n",
    "\n",
    "model2 = OneVsRestClassifier(model)"
   ]
  },
  {
   "cell_type": "code",
   "execution_count": 71,
   "metadata": {
    "collapsed": false
   },
   "outputs": [
    {
     "data": {
      "text/plain": [
       "OneVsRestClassifier(estimator=RandomForestClassifier(bootstrap=True, class_weight=None, criterion='gini',\n",
       "            max_depth=None, max_features='auto', max_leaf_nodes=None,\n",
       "            min_impurity_split=1e-07, min_samples_leaf=1,\n",
       "            min_samples_split=2, min_weight_fraction_leaf=0.0,\n",
       "            n_estimators=1000, n_jobs=2, oob_score=False,\n",
       "            random_state=None, verbose=0, warm_start=False),\n",
       "          n_jobs=1)"
      ]
     },
     "execution_count": 71,
     "metadata": {},
     "output_type": "execute_result"
    }
   ],
   "source": [
    "model2.fit(X1,y_train)"
   ]
  },
  {
   "cell_type": "code",
   "execution_count": 72,
   "metadata": {
    "collapsed": false
   },
   "outputs": [
    {
     "name": "stdout",
     "output_type": "stream",
     "text": [
      "CV Accuracy [ 0.70726129  0.7233677   0.74154728], Average Accuracy 0.724058755899\n"
     ]
    }
   ],
   "source": [
    "scores2 = cross_val_score(model2, X1, y_train, scoring='accuracy')\n",
    "print('CV Accuracy {}, Average Accuracy {}'.format(scores2, scores2.mean()))"
   ]
  },
  {
   "cell_type": "markdown",
   "metadata": {},
   "source": [
    "# Fit & Transform"
   ]
  },
  {
   "cell_type": "code",
   "execution_count": 73,
   "metadata": {
    "collapsed": false,
    "scrolled": true
   },
   "outputs": [
    {
     "data": {
      "text/plain": [
       "RandomForestClassifier(bootstrap=True, class_weight=None, criterion='gini',\n",
       "            max_depth=None, max_features='auto', max_leaf_nodes=None,\n",
       "            min_impurity_split=1e-07, min_samples_leaf=1,\n",
       "            min_samples_split=2, min_weight_fraction_leaf=0.0,\n",
       "            n_estimators=1000, n_jobs=2, oob_score=False,\n",
       "            random_state=None, verbose=0, warm_start=False)"
      ]
     },
     "execution_count": 73,
     "metadata": {},
     "output_type": "execute_result"
    }
   ],
   "source": [
    "model.fit(X1, y_train)"
   ]
  },
  {
   "cell_type": "code",
   "execution_count": 74,
   "metadata": {
    "collapsed": true
   },
   "outputs": [],
   "source": [
    "X_test_transformed = vectorizer.transform(X_test['r.text']).toarray()"
   ]
  },
  {
   "cell_type": "code",
   "execution_count": 76,
   "metadata": {
    "collapsed": false
   },
   "outputs": [
    {
     "data": {
      "text/plain": [
       "array(['Collectible', 'Good', 'OK', 'Very Good'], dtype=object)"
      ]
     },
     "execution_count": 76,
     "metadata": {},
     "output_type": "execute_result"
    }
   ],
   "source": [
    "model.classes_"
   ]
  },
  {
   "cell_type": "code",
   "execution_count": 77,
   "metadata": {
    "collapsed": false
   },
   "outputs": [
    {
     "data": {
      "text/plain": [
       "<bound method RandomForestClassifier.get_params of RandomForestClassifier(bootstrap=True, class_weight=None, criterion='gini',\n",
       "            max_depth=None, max_features='auto', max_leaf_nodes=None,\n",
       "            min_impurity_split=1e-07, min_samples_leaf=1,\n",
       "            min_samples_split=2, min_weight_fraction_leaf=0.0,\n",
       "            n_estimators=1000, n_jobs=2, oob_score=False,\n",
       "            random_state=None, verbose=0, warm_start=False)>"
      ]
     },
     "execution_count": 77,
     "metadata": {},
     "output_type": "execute_result"
    }
   ],
   "source": [
    "model.get_params"
   ]
  },
  {
   "cell_type": "code",
   "execution_count": 78,
   "metadata": {
    "collapsed": false
   },
   "outputs": [
    {
     "data": {
      "text/plain": [
       "<bound method RandomForestClassifier.score of RandomForestClassifier(bootstrap=True, class_weight=None, criterion='gini',\n",
       "            max_depth=None, max_features='auto', max_leaf_nodes=None,\n",
       "            min_impurity_split=1e-07, min_samples_leaf=1,\n",
       "            min_samples_split=2, min_weight_fraction_leaf=0.0,\n",
       "            n_estimators=1000, n_jobs=2, oob_score=False,\n",
       "            random_state=None, verbose=0, warm_start=False)>"
      ]
     },
     "execution_count": 78,
     "metadata": {},
     "output_type": "execute_result"
    }
   ],
   "source": [
    "model.score"
   ]
  },
  {
   "cell_type": "code",
   "execution_count": 79,
   "metadata": {
    "collapsed": false
   },
   "outputs": [
    {
     "data": {
      "text/plain": [
       "array([[ 0.036    ,  0.207    ,  0.007    ,  0.75     ],\n",
       "       [ 0.02     ,  0.263625 ,  0.003    ,  0.713375 ],\n",
       "       [ 0.06     ,  0.1497619,  0.0032381,  0.787    ],\n",
       "       ..., \n",
       "       [ 0.       ,  0.522    ,  0.       ,  0.478    ],\n",
       "       [ 0.003    ,  0.703    ,  0.021    ,  0.273    ],\n",
       "       [ 0.072    ,  0.151    ,  0.001    ,  0.776    ]])"
      ]
     },
     "execution_count": 79,
     "metadata": {},
     "output_type": "execute_result"
    }
   ],
   "source": [
    "model.predict_proba(X_test_transformed)"
   ]
  },
  {
   "cell_type": "code",
   "execution_count": 80,
   "metadata": {
    "collapsed": false
   },
   "outputs": [
    {
     "data": {
      "text/plain": [
       "0.7101200686106347"
      ]
     },
     "execution_count": 80,
     "metadata": {},
     "output_type": "execute_result"
    }
   ],
   "source": [
    "model.score(X_test_transformed, y_test)"
   ]
  },
  {
   "cell_type": "code",
   "execution_count": 81,
   "metadata": {
    "collapsed": false
   },
   "outputs": [
    {
     "data": {
      "text/plain": [
       "OneVsRestClassifier(estimator=RandomForestClassifier(bootstrap=True, class_weight=None, criterion='gini',\n",
       "            max_depth=None, max_features='auto', max_leaf_nodes=None,\n",
       "            min_impurity_split=1e-07, min_samples_leaf=1,\n",
       "            min_samples_split=2, min_weight_fraction_leaf=0.0,\n",
       "            n_estimators=1000, n_jobs=2, oob_score=False,\n",
       "            random_state=None, verbose=0, warm_start=False),\n",
       "          n_jobs=1)"
      ]
     },
     "execution_count": 81,
     "metadata": {},
     "output_type": "execute_result"
    }
   ],
   "source": [
    "model2.fit(X1, y_train)"
   ]
  },
  {
   "cell_type": "code",
   "execution_count": 83,
   "metadata": {
    "collapsed": false
   },
   "outputs": [
    {
     "data": {
      "text/plain": [
       "array([[ 0.01737781,  0.20961986,  0.00403413,  0.76896819],\n",
       "       [ 0.00726895,  0.25441329,  0.02076843,  0.71754933],\n",
       "       [ 0.07561258,  0.13901314,  0.00108018,  0.7842941 ],\n",
       "       ..., \n",
       "       [ 0.        ,  0.53405405,  0.        ,  0.46594595],\n",
       "       [ 0.00096805,  0.70280736,  0.01161665,  0.28460794],\n",
       "       [ 0.09661836,  0.14879227,  0.00772947,  0.7468599 ]])"
      ]
     },
     "execution_count": 83,
     "metadata": {},
     "output_type": "execute_result"
    }
   ],
   "source": [
    "model2.predict_proba(X_test_transformed)"
   ]
  },
  {
   "cell_type": "code",
   "execution_count": 84,
   "metadata": {
    "collapsed": false
   },
   "outputs": [
    {
     "data": {
      "text/plain": [
       "0.69125214408233271"
      ]
     },
     "execution_count": 84,
     "metadata": {},
     "output_type": "execute_result"
    }
   ],
   "source": [
    "model2.score(X_test_transformed, y_test)"
   ]
  },
  {
   "cell_type": "code",
   "execution_count": null,
   "metadata": {
    "collapsed": true
   },
   "outputs": [],
   "source": []
  }
 ],
 "metadata": {
  "anaconda-cloud": {},
  "kernelspec": {
   "display_name": "Python [conda root]",
   "language": "python",
   "name": "conda-root-py"
  },
  "language_info": {
   "codemirror_mode": {
    "name": "ipython",
    "version": 2
   },
   "file_extension": ".py",
   "mimetype": "text/x-python",
   "name": "python",
   "nbconvert_exporter": "python",
   "pygments_lexer": "ipython2",
   "version": "2.7.12"
  }
 },
 "nbformat": 4,
 "nbformat_minor": 1
}
